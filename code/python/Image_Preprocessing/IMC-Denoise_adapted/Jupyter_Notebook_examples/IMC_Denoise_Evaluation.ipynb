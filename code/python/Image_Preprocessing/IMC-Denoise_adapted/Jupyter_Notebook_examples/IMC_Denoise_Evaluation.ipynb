{
 "cells": [
  {
   "cell_type": "code",
   "execution_count": 1,
   "metadata": {},
   "outputs": [
    {
     "name": "stderr",
     "output_type": "stream",
     "text": [
      "Using TensorFlow backend.\n"
     ]
    }
   ],
   "source": [
    "import os\n",
    "import re\n",
    "import tifffile as tf\n",
    "from tqdm import tqdm\n",
    "from IMC_Denoise.IMC_Denoise_main.DeepSNiF import DeepSNiF\n",
    "import matplotlib.pyplot as plt\n",
    "\n",
    "MARKER_CODE = ['176Yb-clPARP_Yb176.tiff', '148Nd-CD20_Nd148.tiff', '209Bi-CD15_Bi209.tiff', '175Lu-CD14_Lu175.tiff', '155Gd-GD2_Gd155.tiff', '191Ir-DNA1_Ir191.tiff', '152Sm-CD3_Sm152.tiff', '136Ba-crtl3_Ba136.tiff', '172Yb-IDO_Yb172.tiff', '154Sm-CD8a_Sm154.tiff', '131Xe-crtl1_Xe131.tiff', '163Dy-FOXP3_Dy163.tiff', '139La-Fibronectin_La139.tiff', '193Ir-DNA1_Ir193.tiff', '2IF_GD2-IF2.tiff', '115In-CD44_In115.tiff', '158Gd-CD10_Gd158.tiff', '145Nd-CXCR2_Nd145.tiff', '170Er-CD56_Er170.tiff', '143Nd-HLA-DR_Nd143.tiff', '89Y-MPO_Y89.tiff', '144Nd-PRPH_Nd144.tiff', '173Yb-GZMB_Yb173.tiff', '169Tm-Ki-67_Tm169.tiff', '168Er-GATA3_Er168.tiff', '134Xe-crtl2_Xe134.tiff', '162Dy-SOX10_Dy162.tiff', '196Pt-Vimentin_Pt196.tiff', '167Er-H4K12Ac_Er167.tiff', '147Sm-HLA-ABC_Sm147.tiff', '164Dy-CHGA_Dy164.tiff', '1IF_DAPI_IF1.tiff', '160Gd-CD274_Gd160.tiff', '166Er-PNMT_Er166.tiff', '161Dy-S100B_Dy161.tiff', '150Nd-CD11c_Nd150.tiff', '156Gd-CD34_Gd156.tiff', '146Nd-H3K9Ac_Nd146.tiff', '165Ho-CD279_Ho165.tiff', '174Yb-ELAVL4_Yb174.tiff', '149Sm-LUM_Sm149.tiff', '151Eu-CD24_Eu151.tiff', '153Eu-CD45_Eu153.tiff', '3IF_CD56-IF3.tiff', '171Yb-CD4_Yb171.tiff', '142Nd-CD11b_Nd142.tiff', '159Tb-CXCR4_Tb159.tiff']"
   ]
  },
  {
   "cell_type": "code",
   "execution_count": 2,
   "metadata": {},
   "outputs": [],
   "source": [
    "base = \"/data_isilon_main/isilon_images/10_MetaSystems/MetaSystemsData/Multimodal_Imaging_Daria/_Data_Analysis/_tmp_daria/Image_analysis/20230105_IMC-Denoise/\"\n",
    "trained_net_folder = os.path.join(base, \"results\")\n",
    "image_folder = os.path.join(base, \"training\")\n",
    "\n",
    "trained_markers = os.listdir(trained_net_folder)\n",
    "\n",
    "rex = \"[-].*[_]\"\n",
    "\n",
    "file_dict = {}\n",
    "for marker in trained_markers:\n",
    "    file = [x for x in MARKER_CODE if marker in x][0]\n",
    "    protein = re.findall(rex, file)[0][1:-1]\n",
    "    weights = os.path.join(trained_net_folder, marker, \"weights.hdf5\")\n",
    "    file_dict[protein] = {\"marker\": marker, \"file\": file, \"weights\": weights} "
   ]
  },
  {
   "cell_type": "code",
   "execution_count": 3,
   "metadata": {},
   "outputs": [],
   "source": [
    "for k, v in file_dict.items():\n",
    "    images = []\n",
    "    for (dir_path, dir_names, file_names) in os.walk(image_folder):\n",
    "        for file in file_names:\n",
    "            if v[\"file\"] in file:\n",
    "                    images.append(os.path.join(dir_path, file))\n",
    "    file_dict[k][\"images\"] = images"
   ]
  },
  {
   "cell_type": "code",
   "execution_count": 4,
   "metadata": {},
   "outputs": [
    {
     "name": "stdout",
     "output_type": "stream",
     "text": [
      "Pre-trained model /data_isilon_main/isilon_images/10_MetaSystems/MetaSystemsData/Multimodal_Imaging_Daria/_Data_Analysis/_tmp_daria/Image_analysis/20230105_IMC-Denoise/results/142Nd/weights.hdf5 loaded successfully.\n",
      "Pre-calculated range value file /data_isilon_main/isilon_images/10_MetaSystems/MetaSystemsData/Multimodal_Imaging_Daria/_Data_Analysis/_tmp_daria/Image_analysis/20230105_IMC-Denoise/results/142Nd/weights_range_val.npz loaded successfully.\n"
     ]
    },
    {
     "name": "stderr",
     "output_type": "stream",
     "text": [
      "100%|██████████| 150/150 [04:33<00:00,  1.83s/it]\n"
     ]
    },
    {
     "name": "stdout",
     "output_type": "stream",
     "text": [
      "Pre-trained model /data_isilon_main/isilon_images/10_MetaSystems/MetaSystemsData/Multimodal_Imaging_Daria/_Data_Analysis/_tmp_daria/Image_analysis/20230105_IMC-Denoise/results/169Tm/weights.hdf5 loaded successfully.\n",
      "Pre-calculated range value file /data_isilon_main/isilon_images/10_MetaSystems/MetaSystemsData/Multimodal_Imaging_Daria/_Data_Analysis/_tmp_daria/Image_analysis/20230105_IMC-Denoise/results/169Tm/weights_range_val.npz loaded successfully.\n"
     ]
    },
    {
     "name": "stderr",
     "output_type": "stream",
     "text": [
      "100%|██████████| 150/150 [02:06<00:00,  1.19it/s]\n"
     ]
    },
    {
     "name": "stdout",
     "output_type": "stream",
     "text": [
      "Pre-trained model /data_isilon_main/isilon_images/10_MetaSystems/MetaSystemsData/Multimodal_Imaging_Daria/_Data_Analysis/_tmp_daria/Image_analysis/20230105_IMC-Denoise/results/151Eu/weights.hdf5 loaded successfully.\n",
      "Pre-calculated range value file /data_isilon_main/isilon_images/10_MetaSystems/MetaSystemsData/Multimodal_Imaging_Daria/_Data_Analysis/_tmp_daria/Image_analysis/20230105_IMC-Denoise/results/151Eu/weights_range_val.npz loaded successfully.\n"
     ]
    },
    {
     "name": "stderr",
     "output_type": "stream",
     "text": [
      "100%|██████████| 150/150 [10:53<00:00,  4.36s/it]\n"
     ]
    },
    {
     "name": "stdout",
     "output_type": "stream",
     "text": [
      "Pre-trained model /data_isilon_main/isilon_images/10_MetaSystems/MetaSystemsData/Multimodal_Imaging_Daria/_Data_Analysis/_tmp_daria/Image_analysis/20230105_IMC-Denoise/results/196Pt/weights.hdf5 loaded successfully.\n",
      "Pre-calculated range value file /data_isilon_main/isilon_images/10_MetaSystems/MetaSystemsData/Multimodal_Imaging_Daria/_Data_Analysis/_tmp_daria/Image_analysis/20230105_IMC-Denoise/results/196Pt/weights_range_val.npz loaded successfully.\n"
     ]
    },
    {
     "name": "stderr",
     "output_type": "stream",
     "text": [
      "100%|██████████| 150/150 [03:51<00:00,  1.54s/it]\n"
     ]
    },
    {
     "name": "stdout",
     "output_type": "stream",
     "text": [
      "Pre-trained model /data_isilon_main/isilon_images/10_MetaSystems/MetaSystemsData/Multimodal_Imaging_Daria/_Data_Analysis/_tmp_daria/Image_analysis/20230105_IMC-Denoise/results/160Gd/weights.hdf5 loaded successfully.\n",
      "Pre-calculated range value file /data_isilon_main/isilon_images/10_MetaSystems/MetaSystemsData/Multimodal_Imaging_Daria/_Data_Analysis/_tmp_daria/Image_analysis/20230105_IMC-Denoise/results/160Gd/weights_range_val.npz loaded successfully.\n"
     ]
    },
    {
     "name": "stderr",
     "output_type": "stream",
     "text": [
      "100%|██████████| 150/150 [03:13<00:00,  1.29s/it]\n"
     ]
    },
    {
     "name": "stdout",
     "output_type": "stream",
     "text": [
      "Pre-trained model /data_isilon_main/isilon_images/10_MetaSystems/MetaSystemsData/Multimodal_Imaging_Daria/_Data_Analysis/_tmp_daria/Image_analysis/20230105_IMC-Denoise/results/Sm152/weights.hdf5 loaded successfully.\n",
      "Pre-calculated range value file /data_isilon_main/isilon_images/10_MetaSystems/MetaSystemsData/Multimodal_Imaging_Daria/_Data_Analysis/_tmp_daria/Image_analysis/20230105_IMC-Denoise/results/Sm152/weights_range_val.npz loaded successfully.\n"
     ]
    },
    {
     "name": "stderr",
     "output_type": "stream",
     "text": [
      "100%|██████████| 150/150 [02:17<00:00,  1.09it/s]\n"
     ]
    },
    {
     "name": "stdout",
     "output_type": "stream",
     "text": [
      "Pre-trained model /data_isilon_main/isilon_images/10_MetaSystems/MetaSystemsData/Multimodal_Imaging_Daria/_Data_Analysis/_tmp_daria/Image_analysis/20230105_IMC-Denoise/results/153Eu/weights.hdf5 loaded successfully.\n",
      "Pre-calculated range value file /data_isilon_main/isilon_images/10_MetaSystems/MetaSystemsData/Multimodal_Imaging_Daria/_Data_Analysis/_tmp_daria/Image_analysis/20230105_IMC-Denoise/results/153Eu/weights_range_val.npz loaded successfully.\n"
     ]
    },
    {
     "name": "stderr",
     "output_type": "stream",
     "text": [
      "100%|██████████| 150/150 [12:53<00:00,  5.15s/it]\n"
     ]
    },
    {
     "name": "stdout",
     "output_type": "stream",
     "text": [
      "Pre-trained model /data_isilon_main/isilon_images/10_MetaSystems/MetaSystemsData/Multimodal_Imaging_Daria/_Data_Analysis/_tmp_daria/Image_analysis/20230105_IMC-Denoise/results/161Dy/weights.hdf5 loaded successfully.\n",
      "Pre-calculated range value file /data_isilon_main/isilon_images/10_MetaSystems/MetaSystemsData/Multimodal_Imaging_Daria/_Data_Analysis/_tmp_daria/Image_analysis/20230105_IMC-Denoise/results/161Dy/weights_range_val.npz loaded successfully.\n"
     ]
    },
    {
     "name": "stderr",
     "output_type": "stream",
     "text": [
      "100%|██████████| 150/150 [01:06<00:00,  2.26it/s]\n"
     ]
    },
    {
     "name": "stdout",
     "output_type": "stream",
     "text": [
      "Pre-trained model /data_isilon_main/isilon_images/10_MetaSystems/MetaSystemsData/Multimodal_Imaging_Daria/_Data_Analysis/_tmp_daria/Image_analysis/20230105_IMC-Denoise/results/115In/weights.hdf5 loaded successfully.\n",
      "Pre-calculated range value file /data_isilon_main/isilon_images/10_MetaSystems/MetaSystemsData/Multimodal_Imaging_Daria/_Data_Analysis/_tmp_daria/Image_analysis/20230105_IMC-Denoise/results/115In/weights_range_val.npz loaded successfully.\n"
     ]
    },
    {
     "name": "stderr",
     "output_type": "stream",
     "text": [
      "100%|██████████| 150/150 [08:38<00:00,  3.46s/it]\n"
     ]
    },
    {
     "name": "stdout",
     "output_type": "stream",
     "text": [
      "Pre-trained model /data_isilon_main/isilon_images/10_MetaSystems/MetaSystemsData/Multimodal_Imaging_Daria/_Data_Analysis/_tmp_daria/Image_analysis/20230105_IMC-Denoise/results/148Nd/weights.hdf5 loaded successfully.\n",
      "Pre-calculated range value file /data_isilon_main/isilon_images/10_MetaSystems/MetaSystemsData/Multimodal_Imaging_Daria/_Data_Analysis/_tmp_daria/Image_analysis/20230105_IMC-Denoise/results/148Nd/weights_range_val.npz loaded successfully.\n"
     ]
    },
    {
     "name": "stderr",
     "output_type": "stream",
     "text": [
      "100%|██████████| 150/150 [01:38<00:00,  1.53it/s]\n"
     ]
    },
    {
     "name": "stdout",
     "output_type": "stream",
     "text": [
      "Pre-trained model /data_isilon_main/isilon_images/10_MetaSystems/MetaSystemsData/Multimodal_Imaging_Daria/_Data_Analysis/_tmp_daria/Image_analysis/20230105_IMC-Denoise/results/89Y/weights.hdf5 loaded successfully.\n",
      "Pre-calculated range value file /data_isilon_main/isilon_images/10_MetaSystems/MetaSystemsData/Multimodal_Imaging_Daria/_Data_Analysis/_tmp_daria/Image_analysis/20230105_IMC-Denoise/results/89Y/weights_range_val.npz loaded successfully.\n"
     ]
    },
    {
     "name": "stderr",
     "output_type": "stream",
     "text": [
      "100%|██████████| 150/150 [06:16<00:00,  2.51s/it]\n"
     ]
    },
    {
     "name": "stdout",
     "output_type": "stream",
     "text": [
      "Pre-trained model /data_isilon_main/isilon_images/10_MetaSystems/MetaSystemsData/Multimodal_Imaging_Daria/_Data_Analysis/_tmp_daria/Image_analysis/20230105_IMC-Denoise/results/147Sm/weights.hdf5 loaded successfully.\n",
      "Pre-calculated range value file /data_isilon_main/isilon_images/10_MetaSystems/MetaSystemsData/Multimodal_Imaging_Daria/_Data_Analysis/_tmp_daria/Image_analysis/20230105_IMC-Denoise/results/147Sm/weights_range_val.npz loaded successfully.\n"
     ]
    },
    {
     "name": "stderr",
     "output_type": "stream",
     "text": [
      "100%|██████████| 150/150 [13:04<00:00,  5.23s/it]\n"
     ]
    },
    {
     "name": "stdout",
     "output_type": "stream",
     "text": [
      "Pre-trained model /data_isilon_main/isilon_images/10_MetaSystems/MetaSystemsData/Multimodal_Imaging_Daria/_Data_Analysis/_tmp_daria/Image_analysis/20230105_IMC-Denoise/results/139La/weights.hdf5 loaded successfully.\n",
      "Pre-calculated range value file /data_isilon_main/isilon_images/10_MetaSystems/MetaSystemsData/Multimodal_Imaging_Daria/_Data_Analysis/_tmp_daria/Image_analysis/20230105_IMC-Denoise/results/139La/weights_range_val.npz loaded successfully.\n"
     ]
    },
    {
     "name": "stderr",
     "output_type": "stream",
     "text": [
      "100%|██████████| 150/150 [02:15<00:00,  1.11it/s]\n"
     ]
    },
    {
     "name": "stdout",
     "output_type": "stream",
     "text": [
      "Pre-trained model /data_isilon_main/isilon_images/10_MetaSystems/MetaSystemsData/Multimodal_Imaging_Daria/_Data_Analysis/_tmp_daria/Image_analysis/20230105_IMC-Denoise/results/209Bi/weights.hdf5 loaded successfully.\n",
      "Pre-calculated range value file /data_isilon_main/isilon_images/10_MetaSystems/MetaSystemsData/Multimodal_Imaging_Daria/_Data_Analysis/_tmp_daria/Image_analysis/20230105_IMC-Denoise/results/209Bi/weights_range_val.npz loaded successfully.\n"
     ]
    },
    {
     "name": "stderr",
     "output_type": "stream",
     "text": [
      "100%|██████████| 150/150 [29:01<00:00, 11.61s/it]\n"
     ]
    }
   ],
   "source": [
    "n_neighbours = 4 \n",
    "n_iter = 3 \n",
    "window_size = 3 \n",
    "\n",
    "for k, v in file_dict.items():\n",
    "    \n",
    "    deepsnif = DeepSNiF(is_load_weights=True,\n",
    "                        weights_name=v[\"weights\"])\n",
    "    \n",
    "    for image in tqdm(v[\"images\"]):\n",
    "        \n",
    "        raw_img = tf.imread(image)\n",
    "        imc_denoise_img = deepsnif.perform_IMC_Denoise(raw_img, n_neighbours = n_neighbours, n_iter = n_iter, window_size = window_size)\n",
    "        \n",
    "        sample = image.split(\"/\")[-2]\n",
    "        \n",
    "        save_dir = os.path.join(base, \"evaluation\", sample)\n",
    "        \n",
    "        if not os.path.isdir(save_dir):\n",
    "            os.mkdir(save_dir)\n",
    "            \n",
    "        tf.imwrite(os.path.join(save_dir, f\"{k}_denoised.tiff\"), imc_denoise_img)\n",
    "        tf.imwrite(os.path.join(save_dir, f\"{k}_raw.tiff\"), raw_img)\n",
    "        \n",
    "        # fig, ax = plt.subplots(1, 2, figsize=(10, 5))\n",
    "        # ax[0].imshow(raw_img)\n",
    "        # ax[1].imshow(imc_denoise_img)\n",
    "        # plt.show()\n"
   ]
  },
  {
   "cell_type": "code",
   "execution_count": null,
   "metadata": {},
   "outputs": [],
   "source": []
  }
 ],
 "metadata": {
  "kernelspec": {
   "display_name": "IMC_Denoise",
   "language": "python",
   "name": "python3"
  },
  "language_info": {
   "codemirror_mode": {
    "name": "ipython",
    "version": 3
   },
   "file_extension": ".py",
   "mimetype": "text/x-python",
   "name": "python",
   "nbconvert_exporter": "python",
   "pygments_lexer": "ipython3",
   "version": "3.6.13 |Anaconda, Inc.| (default, Jun  4 2021, 14:25:59) \n[GCC 7.5.0]"
  },
  "orig_nbformat": 4,
  "vscode": {
   "interpreter": {
    "hash": "227494dca23482e1f70ea6e360c234474a204b47cfdb920bfb24ebedd823d36b"
   }
  }
 },
 "nbformat": 4,
 "nbformat_minor": 2
}
