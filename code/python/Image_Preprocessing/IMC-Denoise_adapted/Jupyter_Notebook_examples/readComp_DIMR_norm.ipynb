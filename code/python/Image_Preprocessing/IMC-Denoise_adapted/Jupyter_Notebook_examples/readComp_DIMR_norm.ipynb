{
 "cells": [
  {
   "cell_type": "markdown",
   "metadata": {},
   "source": [
    "# IMC-DIMR and marker-individual exports\n",
    "\n",
    "Hot pixel removal by removing local maxima in adjacent 3x3 sliding windows and export by marker"
   ]
  },
  {
   "cell_type": "code",
   "execution_count": 1,
   "metadata": {},
   "outputs": [],
   "source": [
    "import sys\n",
    "sys.path.append(\"/home/daria_l/src/MapMet/code/python/Image_Preprocessing/IMC-Denoise_adapted\")"
   ]
  },
  {
   "cell_type": "code",
   "execution_count": 2,
   "metadata": {},
   "outputs": [],
   "source": [
    "import IMC_Denoise\n",
    "from IMC_Denoise.IMC_Denoise_main.DIMR import DIMR\n",
    "import pandas as pd\n",
    "import os, glob\n",
    "import tifffile"
   ]
  },
  {
   "cell_type": "markdown",
   "metadata": {},
   "source": [
    "After spillover compensation in R, we first have to convert the images to float32 as they are written from R in uint32. And we also have to attach channel names to the ome-tiffs."
   ]
  },
  {
   "cell_type": "code",
   "execution_count": 18,
   "metadata": {},
   "outputs": [
    {
     "name": "stderr",
     "output_type": "stream",
     "text": [
      "/home/daria_l/anaconda3/envs/mapmet/lib/python3.10/site-packages/xtiff/tiff.py:130: UserWarning: The specified OME-TIFF file name does not end with .ome.tiff: 20220907_10-1095_TU_ROI_003_IF_IMC.tiff\n",
      "  warnings.warn(\n",
      "/home/daria_l/anaconda3/envs/mapmet/lib/python3.10/site-packages/xtiff/tiff.py:130: UserWarning: The specified OME-TIFF file name does not end with .ome.tiff: 20220907_10-1095_TU_ROI_002_IF_IMC.tiff\n",
      "  warnings.warn(\n",
      "/home/daria_l/anaconda3/envs/mapmet/lib/python3.10/site-packages/xtiff/tiff.py:130: UserWarning: The specified OME-TIFF file name does not end with .ome.tiff: 20220907_10-1095_TU_ROI_004_IF_IMC.tiff\n",
      "  warnings.warn(\n",
      "/home/daria_l/anaconda3/envs/mapmet/lib/python3.10/site-packages/xtiff/tiff.py:130: UserWarning: The specified OME-TIFF file name does not end with .ome.tiff: 20220907_10-1095_TU_ROI_001_IF_IMC.tiff\n",
      "  warnings.warn(\n"
     ]
    }
   ],
   "source": [
    "import os\n",
    "import tifffile\n",
    "import pandas as pd\n",
    "import glob\n",
    "from xtiff import to_tiff\n",
    "import numpy as np\n",
    "\n",
    "base_path = \"/data_isilon_main/isilon_images/10_MetaSystems/MetaSystemsData/Multimodal_Imaging_Daria\"\n",
    "samples = [\"20220907_10-1095_TU\"]\n",
    "#samples = os.listdir(os.path.join(base_path, \"TU\"))\n",
    "\n",
    "out_path = os.path.join(base_path, \"_Data_Analysis/_tmp_daria/Image_analysis/20221102_Steinbock_Mesmer_IFbased/PT\")\n",
    "marker_codes = pd.read_csv(os.path.join(out_path, 'marker_codes.csv'), sep=\";\")\n",
    "\n",
    "for s in samples:\n",
    "    mc_image_files = glob.glob(os.path.join(out_path + \"/comp_img/{}*.tiff\".format(s)), recursive=True)\n",
    "\n",
    "    if not os.path.exists(os.path.join(base_path, \"TU\", s, \"IF_IMC_comp\")):\n",
    "        os.mkdir(os.path.join(base_path, \"TU\", s, \"IF_IMC_comp\"))\n",
    "\n",
    "    for f in mc_image_files:\n",
    "        img = tifffile.imread(f)\n",
    "        img= img.astype(np.float32)\n",
    "\n",
    "        to_tiff(\n",
    "            img,\n",
    "            os.path.join(base_path, \"TU\", s, \"IF_IMC_comp\", f.split(\"/\")[-1]),\n",
    "            image_name=os.path.join(base_path, \"TU\", s, \"IF_IMC_comp\", f.split(\"/\")[-1]),\n",
    "            channel_names=list(marker_codes[\"new_names\"]),\n",
    "            pixel_size=1.0,\n",
    "            pixel_depth=1.0,\n",
    "            )"
   ]
  },
  {
   "cell_type": "markdown",
   "metadata": {},
   "source": [
    "Delete below part later. This is just for when the training samples are already randomly selected."
   ]
  },
  {
   "cell_type": "code",
   "execution_count": 8,
   "metadata": {},
   "outputs": [],
   "source": [
    "# import os\n",
    "# import tifffile\n",
    "# import xml.etree.ElementTree\n",
    "# import pandas as pd\n",
    "# import io\n",
    "# import random\n",
    "# import glob\n",
    "# import numpy as np\n",
    "\n",
    "# def read_channel_names(path):\n",
    "    \n",
    "#     tiff = tifffile.TiffFile(path)\n",
    "#     omexml_string = tiff.pages[0].description\n",
    "#     root = xml.etree.ElementTree.parse(io.StringIO(omexml_string))\n",
    "#     namespaces = {'ome': 'http://www.openmicroscopy.org/Schemas/OME/2016-06'}\n",
    "#     channels = root.findall('ome:Image[1]/ome:Pixels/ome:Channel', namespaces)\n",
    "#     channel_names = [c.attrib['Name'] for c in channels]\n",
    "#     return channel_names\n",
    "\n",
    "\n",
    "# base_path = \"/data_isilon_main/isilon_images/10_MetaSystems/MetaSystemsData/Multimodal_Imaging_Daria\"\n",
    "\n",
    "# BM_path = os.path.join(base_path, \"BM\")\n",
    "# out_path = os.path.join(base_path, \"_Data_Analysis/_tmp_daria/Image_analysis/20230112_DIMR_Ilastik\")\n",
    "\n",
    "# training_samples = os.listdir(os.path.join(out_path, \"training\", \"raw\"))\n",
    "\n",
    "# for s in training_samples: \n",
    "\n",
    "#     sample = s.split(\"_ROI\")[0]\n",
    "#     training_file = s.split(\".\")[0]\n",
    "\n",
    "#     multichannel_path = os.path.join(BM_path, sample, \"IF_IMC_comp_196\")\n",
    "\n",
    "#     mc_image_files = os.listdir(multichannel_path)\n",
    "\n",
    "#     for f in mc_image_files:\n",
    "#         file_name = f.split(\".\")[0]\n",
    "\n",
    "#         mc_image = tifffile.imread(os.path.join(multichannel_path, f))\n",
    "\n",
    "#         channel_names = read_channel_names(os.path.join(multichannel_path, f))\n",
    "\n",
    "#         if file_name == training_file:\n",
    "#             folder = \"training\"\n",
    "#         else:\n",
    "#             folder = \"other\"\n",
    "        \n",
    "#         if not os.path.exists(os.path.join(out_path, folder, \"comp_196\", file_name)):\n",
    "#             os.mkdir(os.path.join(out_path, folder, \"comp_196\", file_name))\n",
    "\n",
    "#         for c, img in enumerate(mc_image):\n",
    "#             tifffile.imwrite(os.path.join(out_path, folder, \"comp_196\", file_name, channel_names[c]+\".tiff\"),img)\n"
   ]
  },
  {
   "cell_type": "markdown",
   "metadata": {},
   "source": [
    "After spillover compensation, we have to prepare the file structure that is required by IMC-Denoise for DIMR hot-pixel removal."
   ]
  },
  {
   "cell_type": "code",
   "execution_count": 7,
   "metadata": {},
   "outputs": [],
   "source": [
    "import os\n",
    "import tifffile\n",
    "import xml.etree.ElementTree\n",
    "import pandas as pd\n",
    "import io\n",
    "import random\n",
    "import glob\n",
    "import numpy as np\n",
    "\n",
    "def read_channel_names(path):\n",
    "    \n",
    "    tiff = tifffile.TiffFile(path)\n",
    "    omexml_string = tiff.pages[0].description\n",
    "    root = xml.etree.ElementTree.parse(io.StringIO(omexml_string))\n",
    "    namespaces = {'ome': 'http://www.openmicroscopy.org/Schemas/OME/2016-06'}\n",
    "    channels = root.findall('ome:Image[1]/ome:Pixels/ome:Channel', namespaces)\n",
    "    channel_names = [c.attrib['Name'] for c in channels]\n",
    "    return channel_names\n",
    "\n",
    "\n",
    "base_path = \"/data_isilon_main/isilon_images/10_MetaSystems/MetaSystemsData/Multimodal_Imaging_Daria\"\n",
    "\n",
    "BM_path = os.path.join(base_path, \"TU\")\n",
    "out_path = os.path.join(base_path, \"_Data_Analysis/_tmp_daria/Image_analysis/20230112_DIMR_Ilastik/PT\")\n",
    "\n",
    "if not os.path.exists(os.path.join(out_path, \"training\")):\n",
    "    os.mkdir(os.path.join(out_path, \"training\"))\n",
    "\n",
    "if not os.path.exists(os.path.join(out_path, \"other\")):\n",
    "    os.mkdir(os.path.join(out_path, \"other\"))\n",
    "\n",
    "samples = os.listdir(BM_path)\n",
    "\n",
    "for s in samples: \n",
    "\n",
    "    multichannel_path = os.path.join(BM_path, s, \"IF_IMC_comp\")\n",
    "\n",
    "    mc_image_files = os.listdir(multichannel_path)\n",
    "\n",
    "    training_file = random.choice(mc_image_files)\n",
    "    training_file = training_file.split(\".\")[0]\n",
    "\n",
    "\n",
    "    for f in mc_image_files:\n",
    "        file_name = f.split(\".\")[0]\n",
    "\n",
    "        mc_image = tifffile.imread(os.path.join(multichannel_path, f))\n",
    "\n",
    "        channel_names = read_channel_names(os.path.join(multichannel_path, f))\n",
    "\n",
    "        if file_name == training_file:\n",
    "            folder = \"training\"\n",
    "        else:\n",
    "            folder = \"other\"\n",
    "\n",
    "        if not os.path.exists(os.path.join(out_path, folder, \"comp\", file_name)):\n",
    "            os.mkdir(os.path.join(out_path, folder, \"comp\", file_name))\n",
    "\n",
    "        for c, img in enumerate(mc_image):\n",
    "            tifffile.imwrite(os.path.join(out_path, folder, \"comp\", file_name, channel_names[c]+\".tiff\"),img)\n"
   ]
  },
  {
   "cell_type": "markdown",
   "metadata": {},
   "source": [
    "After we have generated single images out of the stacks for each RoI of each sample, we can apply DIMR hot-pixel removal. We will randomly select one RoI per sample for training of DIMR and Ilastik background prediction. "
   ]
  },
  {
   "cell_type": "code",
   "execution_count": null,
   "metadata": {},
   "outputs": [],
   "source": [
    "base_path = \"/data_isilon_main/isilon_images/10_MetaSystems/MetaSystemsData/Multimodal_Imaging_Daria/_Data_Analysis/_tmp_daria/Image_analysis/20230112_DIMR_Ilastik/PT\"\n",
    "\n",
    "\n",
    "marker_codes = pd.read_csv(os.path.join(base_path, 'marker_codes.csv'), sep=\";\")\n",
    "\n",
    "n_neighbours = 4 # Larger n enables removing more consecutive hot pixels. \n",
    "n_iter = 3 # Iteration number for DIMR\n",
    "window_size = 3 # Slide window size. For IMC images, window_size = 3 is fine.\n",
    "\n",
    "other_path = os.path.join(base_path, \"other\")\n",
    "training_path = os.path.join(base_path, \"training\")\n",
    "\n",
    "for m in marker_codes[\"new_names\"]:\n",
    "\n",
    "    if m in [\"131Xe-crtl1_Xe131\", \"134Xe-crtl2_Xe134\", \"136Ba-crtl3_Ba136\"]:\n",
    "        continue\n",
    "\n",
    "    working_path = training_path\n",
    "\n",
    "    if not os.path.exists(os.path.join(working_path, \"DIMR\", m)):\n",
    "        os.mkdir(os.path.join(working_path, \"DIMR\", m))\n",
    "\n",
    "    if not os.path.exists(os.path.join(working_path, \"DIMR_Ilastik\", m)):\n",
    "        os.mkdir(os.path.join(working_path, \"DIMR_Ilastik\", m))\n",
    "\n",
    "    for s in glob.glob(os.path.join(working_path + \"/comp/**/*{}.tiff\".format(m)), recursive=True):\n",
    "        img_raw = tifffile.imread(s)\n",
    "        img_DIMR = DIMR(n_neighbours = n_neighbours, n_iter = n_iter, window_size = window_size).perform_DIMR(img_raw)\n",
    "        tifffile.imwrite(os.path.join(working_path, \"DIMR\", m, s.split(\"/\")[-2].split(\"_IF\")[0] + \"_\" + s.split(\"/\")[-1]), img_DIMR)\n",
    "\n",
    "\n",
    "    working_path = other_path\n",
    "\n",
    "    if not os.path.exists(os.path.join(working_path, \"DIMR\", m)):\n",
    "        os.mkdir(os.path.join(working_path, \"DIMR\", m))\n",
    "\n",
    "    if not os.path.exists(os.path.join(working_path, \"DIMR_Ilastik\", m)):\n",
    "        os.mkdir(os.path.join(working_path, \"DIMR_Ilastik\", m))\n",
    "\n",
    "    for s in glob.glob(os.path.join(working_path + \"/comp/**/*{}.tiff\".format(m)), recursive=True):\n",
    "        img_raw = tifffile.imread(s)\n",
    "        img_DIMR = DIMR(n_neighbours = n_neighbours, n_iter = n_iter, window_size = window_size).perform_DIMR(img_raw)\n",
    "        tifffile.imwrite(os.path.join(working_path, \"DIMR\", m, s.split(\"/\")[-2].split(\"_IF\")[0] + \"_\" + s.split(\"/\")[-1]), img_DIMR)\n",
    "    "
   ]
  },
  {
   "cell_type": "markdown",
   "metadata": {},
   "source": [
    "After DIMR correction, we will perform background prediciton in Ilastik and save the inferred masks. In a next step, we will go through all samples and per marker read in the comp-DIMR corrected images and ilastik masks of all RoI. In case of BM samples, if the marker is an IF marker or CD274, we will set the entire mask to one, since we did not perform fg/bg prediction for those markers."
   ]
  },
  {
   "cell_type": "code",
   "execution_count": null,
   "metadata": {},
   "outputs": [],
   "source": [
    "import os\n",
    "import glob\n",
    "import pandas as pd\n",
    "from functools import reduce\n",
    "import numpy as np \n",
    "import tifffile\n",
    "import matplotlib.pyplot as plt\n",
    "from sklearn.preprocessing import MinMaxScaler\n",
    "from xtiff import to_tiff\n",
    "import re\n",
    "\n",
    "base_path = \"/data_isilon_main/isilon_images/10_MetaSystems/MetaSystemsData/Multimodal_Imaging_Daria\"\n",
    "BM_path = os.path.join(base_path, \"TU\")\n",
    "samples = os.listdir(BM_path)\n",
    "\n",
    "path_to_data = os.path.join(base_path, \"_Data_Analysis/_tmp_daria/Image_analysis/20230112_DIMR_Ilastik/PT\")\n",
    "marker_codes = pd.read_csv(os.path.join(path_to_data, 'marker_codes.csv'), sep=\";\")\n",
    "marker_codes = [i for i in list(marker_codes.new_names) if i not in [\"131Xe-crtl1_Xe131\", \"134Xe-crtl2_Xe134\", \"136Ba-crtl3_Ba136\"]]\n",
    "\n",
    "def merge_on_marker(folder:str, sample: str, data_path:str) -> pd.DataFrame:\n",
    "\n",
    "    roi = os.listdir(os.path.join(BM_path, sample, \"IF_IMC_lowres\"))\n",
    "    df_list = []\n",
    "\n",
    "    for _r in roi:\n",
    "        r = _r.split(\"_IF\")[0]\n",
    "        paths = glob.glob(os.path.join(data_path + \"/*/\" + folder + \"/*/{}*.tiff\".format(r)), recursive=True)\n",
    "        marker = [i.split(\"/\")[-2] for i in paths]\n",
    "        df = pd.DataFrame({\"marker\": marker, r: paths})\n",
    "        df_list.append(df)\n",
    "\n",
    "    merged_df = reduce(lambda df1,df2: pd.merge(df1,df2,on=\"marker\", how=\"outer\"), df_list)\n",
    "    merged_df.set_index(\"marker\", inplace=True)\n",
    "\n",
    "    return merged_df\n",
    "\n",
    "def stack_save(df: pd.DataFrame, out_path: str):\n",
    "    for _roi in df.columns:\n",
    "        mc_image = np.stack(df[_roi])\n",
    "        ch_names = df.index\n",
    "\n",
    "        to_tiff(\n",
    "            mc_image,\n",
    "            os.path.join(out_path, _roi + \"_IF_IMC.tiff\"),\n",
    "            image_name=os.path.join(out_path, _roi + \"_IF_IMC.tiff\"),\n",
    "            channel_names=list(ch_names),\n",
    "            pixel_size=1.0,\n",
    "            pixel_depth=1.0,\n",
    "            )\n",
    "\n",
    "\n",
    "for s in samples: \n",
    "    if not os.path.exists(os.path.join(BM_path, s, \"IF_IMC_processed\")):\n",
    "        os.mkdir(os.path.join(BM_path, s, \"IF_IMC_processed\"))\n",
    "\n",
    "    if not os.path.exists(os.path.join(BM_path, s, \"IF_IMC_ilastik-masks\")):\n",
    "        os.mkdir(os.path.join(BM_path, s, \"IF_IMC_ilastik-masks\"))\n",
    "    \n",
    "    img_paths_df = merge_on_marker(\"DIMR\", s, path_to_data)\n",
    "    mask_paths_df = merge_on_marker(\"DIMR_ilastik_simplesegmentation\", s, path_to_data)\n",
    "\n",
    "    mask_paths_df = mask_paths_df.loc[:, img_paths_df.columns]\n",
    "\n",
    "    img_df = img_paths_df.loc[marker_codes, :]\n",
    "    mask_df = img_paths_df.loc[marker_codes, :]\n",
    "\n",
    "    for m in marker_codes:\n",
    "        img_paths = img_paths_df.loc[m]\n",
    "        imgs = np.array([tifffile.imread(f) for f in img_paths])\n",
    "\n",
    "        #if m in [\"1IF_DAPI_IF1\", \"2IF_GD2-IF2\", \"3IF_CD56-IF3\", \"160Gd-CD274_Gd160\"]:\n",
    "        if m in [\"1IF_DAPI_IF1\", \"2IF_GD2-IF2\", \"3IF_CD56-IF3\"]:\n",
    "            masks = np.ones_like(imgs)\n",
    "        else:\n",
    "            mask_paths = mask_paths_df.loc[m]\n",
    "            masks = np.array([tifffile.imread(f) for f in mask_paths])\n",
    "\n",
    "\n",
    "        imgs_cut = imgs[:, 2:-2, 2:-2]\n",
    "        masks_cut = masks[:, 2:-2, 2:-2]\n",
    "\n",
    "        #masks_cut[masks_cut==2] = 0\n",
    "\n",
    "        imgs_99 = imgs_cut.copy()\n",
    "\n",
    "        # only for BM samples: as HLA-ABC has a lot of outliers we will set a lower upper threshold to make sure that the \"true\" signals are not squeezed\n",
    "        '''if m == \"147Sm-HLA-ABC_Sm147\":\n",
    "            imgs_99[imgs_99 > np.percentile(imgs_99, 99)] = np.percentile(imgs_99, 99)\n",
    "        else:\n",
    "            imgs_99[imgs_99 > np.percentile(imgs_99, 99.5)] = np.percentile(imgs_99, 99.5)'''\n",
    "        \n",
    "        imgs_99[imgs_99 > np.percentile(imgs_99, 99.5)] = np.percentile(imgs_99, 99.5)\n",
    "\n",
    "        imgs_wo_bg = imgs_99 * masks_cut\n",
    "\n",
    "        scaler = MinMaxScaler()\n",
    "        tmp = imgs_wo_bg.reshape(-1, 1)\n",
    "        tmp_norm = scaler.fit_transform(tmp)\n",
    "        imgs_norm = tmp_norm.reshape(imgs_wo_bg.shape)\n",
    "\n",
    "        img_df.loc[m] = [i for i in imgs_norm]\n",
    "        mask_df.loc[m] = [i for i in masks_cut]\n",
    "\n",
    "    stack_save(img_df, os.path.join(BM_path, s, \"IF_IMC_processed\"))\n",
    "    stack_save(mask_df, os.path.join(BM_path, s, \"IF_IMC_ilastik-masks\"))\n",
    "\n",
    "    print(\"Sample \" + s + \" finished and saved.\")\n"
   ]
  },
  {
   "cell_type": "markdown",
   "metadata": {},
   "source": [
    "After exporting the processed images and ilastik masks, we will to clipping and normalization on the IF images and copy them to the probabilites folder. "
   ]
  },
  {
   "cell_type": "code",
   "execution_count": 20,
   "metadata": {},
   "outputs": [
    {
     "name": "stdout",
     "output_type": "stream",
     "text": [
      "Sample 20220907_05-3231_TU finished and saved.\n",
      "Sample 20220809_10-2679_TU finished and saved.\n",
      "Sample 20220804_18-1061_TU finished and saved.\n",
      "Sample 20220809_08-4160_TU finished and saved.\n",
      "Sample 20220810_05-0034_TU finished and saved.\n",
      "Sample 20220825_03-0313_TU finished and saved.\n",
      "Sample 20220810_05-3938_TU finished and saved.\n",
      "Sample 20220810_09-0411_TU finished and saved.\n",
      "Sample 20220809_07-4158_TU finished and saved.\n",
      "Sample 20220816_11-1208_TU finished and saved.\n",
      "Sample 20220804_16-0274_TU finished and saved.\n",
      "Sample 20220809_16-1934_TU finished and saved.\n",
      "Sample 20220906_03-1501_TU finished and saved.\n",
      "Sample 20220906_03-3536_TU finished and saved.\n",
      "Sample 20220907_10-1095_TU finished and saved.\n",
      "Sample 20220906_03-0170_TU finished and saved.\n",
      "Sample 20220804_17-2178_TU finished and saved.\n",
      "Sample 20220906_02-4010_TU finished and saved.\n",
      "Sample 20220825_02-2222_TU finished and saved.\n",
      "Sample 20220908_21-00438_TU finished and saved.\n",
      "Sample 20220908_21-00560_TU finished and saved.\n",
      "Sample 20220809_16-1927_TU finished and saved.\n",
      "Sample 20220810_04-2772_TU finished and saved.\n",
      "Sample 20220825_03-3901_TU finished and saved.\n",
      "Sample 20220825_03-0529_TU finished and saved.\n",
      "Sample 20220823_04-4629_TU finished and saved.\n",
      "Sample 20220908_20-6834_TU finished and saved.\n",
      "Sample 20220908_20-3529_TU finished and saved.\n",
      "Sample 20220907_13-3719_TU finished and saved.\n",
      "Sample 20220908_20-2831_TU finished and saved.\n",
      "Sample 20220809_13-4453_TU finished and saved.\n"
     ]
    }
   ],
   "source": [
    "import os\n",
    "import glob\n",
    "import pandas as pd\n",
    "from functools import reduce\n",
    "import numpy as np \n",
    "import tifffile\n",
    "import matplotlib.pyplot as plt\n",
    "from sklearn.preprocessing import MinMaxScaler\n",
    "from xtiff import to_tiff\n",
    "import re\n",
    "\n",
    "base_path = \"/data_isilon_main/isilon_images/10_MetaSystems/MetaSystemsData/Multimodal_Imaging_Daria\"\n",
    "BM_path = os.path.join(base_path, \"TU\")\n",
    "samples = os.listdir(BM_path)\n",
    "\n",
    "marker_codes = [\"1IF_DAPI_IF1\", \"2IF_GD2-IF2\", \"3IF_CD56-IF3\"]\n",
    "\n",
    "path_to_data = os.path.join(base_path, \"_Data_Analysis/_tmp_daria/Image_analysis/20230112_DIMR_Ilastik/PT\")\n",
    "\n",
    "def merge_on_marker(folder:str, sample: str, data_path:str) -> pd.DataFrame:\n",
    "\n",
    "    roi = os.listdir(os.path.join(BM_path, sample, \"IF_IMC_lowres\"))\n",
    "    df_list = []\n",
    "\n",
    "    for _r in roi:\n",
    "        r = _r.split(\"_IF\")[0]\n",
    "        paths = glob.glob(os.path.join(data_path + \"/*/\" + folder + \"/*/{}*.tiff\".format(r)), recursive=True)\n",
    "        marker = [i.split(\"/\")[-2] for i in paths]\n",
    "        df = pd.DataFrame({\"marker\": marker, r: paths})\n",
    "        df_list.append(df)\n",
    "\n",
    "    merged_df = reduce(lambda df1,df2: pd.merge(df1,df2,on=\"marker\", how=\"outer\"), df_list)\n",
    "    merged_df.set_index(\"marker\", inplace=True)\n",
    "\n",
    "    return merged_df\n",
    "\n",
    "for s in samples: \n",
    "    \n",
    "    img_paths_df = merge_on_marker(\"DIMR\", s, path_to_data)\n",
    "\n",
    "    img_paths_df = img_paths_df.loc[marker_codes, :]\n",
    "\n",
    "    for m in marker_codes:\n",
    "        img_paths = img_paths_df.loc[m]\n",
    "        imgs = np.array([tifffile.imread(f) for f in img_paths])\n",
    "\n",
    "        imgs_99 = imgs.copy()\n",
    "        \n",
    "        imgs_99[imgs_99 > np.percentile(imgs_99, 99.5)] = np.percentile(imgs_99, 99.5)\n",
    "\n",
    "        scaler = MinMaxScaler()\n",
    "        tmp = imgs_99.reshape(-1, 1)\n",
    "        tmp_norm = scaler.fit_transform(tmp)\n",
    "        imgs_norm = tmp_norm.reshape(imgs_99.shape)\n",
    "\n",
    "        img_paths_probs = [p.replace(\"/DIMR/\", \"/DIMR_ilastik_probabilities/\") for p in img_paths]\n",
    "        [tifffile.imwrite(img_paths_probs[i], imgs_norm[i]) for i in range(len(imgs_norm))]\n",
    "\n",
    "    print(\"Sample \" + s + \" finished and saved.\")"
   ]
  },
  {
   "cell_type": "markdown",
   "metadata": {},
   "source": [
    "Now we will stack all probabilities that were exported in Ilastik and save them to the original sample folders."
   ]
  },
  {
   "cell_type": "code",
   "execution_count": 3,
   "metadata": {},
   "outputs": [
    {
     "name": "stderr",
     "output_type": "stream",
     "text": [
      "/home/daria_l/anaconda3/envs/mapmet/lib/python3.10/site-packages/xtiff/tiff.py:130: UserWarning: The specified OME-TIFF file name does not end with .ome.tiff: 20220907_05-3231_TU_ROI_001_IF_IMC.tiff\n",
      "  warnings.warn(\n"
     ]
    },
    {
     "name": "stdout",
     "output_type": "stream",
     "text": [
      "Sample 20220907_05-3231_TU finished and saved.\n"
     ]
    },
    {
     "name": "stderr",
     "output_type": "stream",
     "text": [
      "/home/daria_l/anaconda3/envs/mapmet/lib/python3.10/site-packages/xtiff/tiff.py:130: UserWarning: The specified OME-TIFF file name does not end with .ome.tiff: 20220809_10-2679_TU_ROI_006_IF_IMC.tiff\n",
      "  warnings.warn(\n",
      "/home/daria_l/anaconda3/envs/mapmet/lib/python3.10/site-packages/xtiff/tiff.py:130: UserWarning: The specified OME-TIFF file name does not end with .ome.tiff: 20220809_10-2679_TU_ROI_004_IF_IMC.tiff\n",
      "  warnings.warn(\n",
      "/home/daria_l/anaconda3/envs/mapmet/lib/python3.10/site-packages/xtiff/tiff.py:130: UserWarning: The specified OME-TIFF file name does not end with .ome.tiff: 20220809_10-2679_TU_ROI_005_IF_IMC.tiff\n",
      "  warnings.warn(\n",
      "/home/daria_l/anaconda3/envs/mapmet/lib/python3.10/site-packages/xtiff/tiff.py:130: UserWarning: The specified OME-TIFF file name does not end with .ome.tiff: 20220809_10-2679_TU_ROI_001_IF_IMC.tiff\n",
      "  warnings.warn(\n"
     ]
    },
    {
     "name": "stdout",
     "output_type": "stream",
     "text": [
      "Sample 20220809_10-2679_TU finished and saved.\n"
     ]
    },
    {
     "name": "stderr",
     "output_type": "stream",
     "text": [
      "/home/daria_l/anaconda3/envs/mapmet/lib/python3.10/site-packages/xtiff/tiff.py:130: UserWarning: The specified OME-TIFF file name does not end with .ome.tiff: 20220804_18-1061_TU_ROI_008_IF_IMC.tiff\n",
      "  warnings.warn(\n",
      "/home/daria_l/anaconda3/envs/mapmet/lib/python3.10/site-packages/xtiff/tiff.py:130: UserWarning: The specified OME-TIFF file name does not end with .ome.tiff: 20220804_18-1061_TU_ROI_005_IF_IMC.tiff\n",
      "  warnings.warn(\n",
      "/home/daria_l/anaconda3/envs/mapmet/lib/python3.10/site-packages/xtiff/tiff.py:130: UserWarning: The specified OME-TIFF file name does not end with .ome.tiff: 20220804_18-1061_TU_ROI_009_IF_IMC.tiff\n",
      "  warnings.warn(\n",
      "/home/daria_l/anaconda3/envs/mapmet/lib/python3.10/site-packages/xtiff/tiff.py:130: UserWarning: The specified OME-TIFF file name does not end with .ome.tiff: 20220804_18-1061_TU_ROI_003_IF_IMC.tiff\n",
      "  warnings.warn(\n"
     ]
    },
    {
     "name": "stdout",
     "output_type": "stream",
     "text": [
      "Sample 20220804_18-1061_TU finished and saved.\n"
     ]
    },
    {
     "name": "stderr",
     "output_type": "stream",
     "text": [
      "/home/daria_l/anaconda3/envs/mapmet/lib/python3.10/site-packages/xtiff/tiff.py:130: UserWarning: The specified OME-TIFF file name does not end with .ome.tiff: 20220809_08-4160_TU_ROI_003_IF_IMC.tiff\n",
      "  warnings.warn(\n",
      "/home/daria_l/anaconda3/envs/mapmet/lib/python3.10/site-packages/xtiff/tiff.py:130: UserWarning: The specified OME-TIFF file name does not end with .ome.tiff: 20220809_08-4160_TU_ROI_002_IF_IMC.tiff\n",
      "  warnings.warn(\n",
      "/home/daria_l/anaconda3/envs/mapmet/lib/python3.10/site-packages/xtiff/tiff.py:130: UserWarning: The specified OME-TIFF file name does not end with .ome.tiff: 20220809_08-4160_TU_ROI_001_IF_IMC.tiff\n",
      "  warnings.warn(\n"
     ]
    },
    {
     "name": "stdout",
     "output_type": "stream",
     "text": [
      "Sample 20220809_08-4160_TU finished and saved.\n"
     ]
    },
    {
     "name": "stderr",
     "output_type": "stream",
     "text": [
      "/home/daria_l/anaconda3/envs/mapmet/lib/python3.10/site-packages/xtiff/tiff.py:130: UserWarning: The specified OME-TIFF file name does not end with .ome.tiff: 20220810_05-0034_TU_ROI_002_IF_IMC.tiff\n",
      "  warnings.warn(\n",
      "/home/daria_l/anaconda3/envs/mapmet/lib/python3.10/site-packages/xtiff/tiff.py:130: UserWarning: The specified OME-TIFF file name does not end with .ome.tiff: 20220810_05-0034_TU_ROI_004_IF_IMC.tiff\n",
      "  warnings.warn(\n",
      "/home/daria_l/anaconda3/envs/mapmet/lib/python3.10/site-packages/xtiff/tiff.py:130: UserWarning: The specified OME-TIFF file name does not end with .ome.tiff: 20220810_05-0034_TU_ROI_001_IF_IMC.tiff\n",
      "  warnings.warn(\n",
      "/home/daria_l/anaconda3/envs/mapmet/lib/python3.10/site-packages/xtiff/tiff.py:130: UserWarning: The specified OME-TIFF file name does not end with .ome.tiff: 20220810_05-0034_TU_ROI_003_IF_IMC.tiff\n",
      "  warnings.warn(\n"
     ]
    },
    {
     "name": "stdout",
     "output_type": "stream",
     "text": [
      "Sample 20220810_05-0034_TU finished and saved.\n"
     ]
    },
    {
     "name": "stderr",
     "output_type": "stream",
     "text": [
      "/home/daria_l/anaconda3/envs/mapmet/lib/python3.10/site-packages/xtiff/tiff.py:130: UserWarning: The specified OME-TIFF file name does not end with .ome.tiff: 20220825_03-0313_TU_ROI_004_IF_IMC.tiff\n",
      "  warnings.warn(\n",
      "/home/daria_l/anaconda3/envs/mapmet/lib/python3.10/site-packages/xtiff/tiff.py:130: UserWarning: The specified OME-TIFF file name does not end with .ome.tiff: 20220825_03-0313_TU_ROI_003_IF_IMC.tiff\n",
      "  warnings.warn(\n",
      "/home/daria_l/anaconda3/envs/mapmet/lib/python3.10/site-packages/xtiff/tiff.py:130: UserWarning: The specified OME-TIFF file name does not end with .ome.tiff: 20220825_03-0313_TU_ROI_001_IF_IMC.tiff\n",
      "  warnings.warn(\n",
      "/home/daria_l/anaconda3/envs/mapmet/lib/python3.10/site-packages/xtiff/tiff.py:130: UserWarning: The specified OME-TIFF file name does not end with .ome.tiff: 20220825_03-0313_TU_ROI_002_IF_IMC.tiff\n",
      "  warnings.warn(\n"
     ]
    },
    {
     "name": "stdout",
     "output_type": "stream",
     "text": [
      "Sample 20220825_03-0313_TU finished and saved.\n"
     ]
    },
    {
     "name": "stderr",
     "output_type": "stream",
     "text": [
      "/home/daria_l/anaconda3/envs/mapmet/lib/python3.10/site-packages/xtiff/tiff.py:130: UserWarning: The specified OME-TIFF file name does not end with .ome.tiff: 20220810_05-3938_TU_ROI_001_IF_IMC.tiff\n",
      "  warnings.warn(\n",
      "/home/daria_l/anaconda3/envs/mapmet/lib/python3.10/site-packages/xtiff/tiff.py:130: UserWarning: The specified OME-TIFF file name does not end with .ome.tiff: 20220810_05-3938_TU_ROI_004_IF_IMC.tiff\n",
      "  warnings.warn(\n",
      "/home/daria_l/anaconda3/envs/mapmet/lib/python3.10/site-packages/xtiff/tiff.py:130: UserWarning: The specified OME-TIFF file name does not end with .ome.tiff: 20220810_05-3938_TU_ROI_003_IF_IMC.tiff\n",
      "  warnings.warn(\n",
      "/home/daria_l/anaconda3/envs/mapmet/lib/python3.10/site-packages/xtiff/tiff.py:130: UserWarning: The specified OME-TIFF file name does not end with .ome.tiff: 20220810_05-3938_TU_ROI_002_IF_IMC.tiff\n",
      "  warnings.warn(\n"
     ]
    },
    {
     "name": "stdout",
     "output_type": "stream",
     "text": [
      "Sample 20220810_05-3938_TU finished and saved.\n"
     ]
    },
    {
     "name": "stderr",
     "output_type": "stream",
     "text": [
      "/home/daria_l/anaconda3/envs/mapmet/lib/python3.10/site-packages/xtiff/tiff.py:130: UserWarning: The specified OME-TIFF file name does not end with .ome.tiff: 20220810_09-0411_TU_ROI_002_IF_IMC.tiff\n",
      "  warnings.warn(\n",
      "/home/daria_l/anaconda3/envs/mapmet/lib/python3.10/site-packages/xtiff/tiff.py:130: UserWarning: The specified OME-TIFF file name does not end with .ome.tiff: 20220810_09-0411_TU_ROI_001_IF_IMC.tiff\n",
      "  warnings.warn(\n"
     ]
    },
    {
     "name": "stdout",
     "output_type": "stream",
     "text": [
      "Sample 20220810_09-0411_TU finished and saved.\n"
     ]
    },
    {
     "name": "stderr",
     "output_type": "stream",
     "text": [
      "/home/daria_l/anaconda3/envs/mapmet/lib/python3.10/site-packages/xtiff/tiff.py:130: UserWarning: The specified OME-TIFF file name does not end with .ome.tiff: 20220809_07-4158_TU_ROI_005_IF_IMC.tiff\n",
      "  warnings.warn(\n",
      "/home/daria_l/anaconda3/envs/mapmet/lib/python3.10/site-packages/xtiff/tiff.py:130: UserWarning: The specified OME-TIFF file name does not end with .ome.tiff: 20220809_07-4158_TU_ROI_002_IF_IMC.tiff\n",
      "  warnings.warn(\n",
      "/home/daria_l/anaconda3/envs/mapmet/lib/python3.10/site-packages/xtiff/tiff.py:130: UserWarning: The specified OME-TIFF file name does not end with .ome.tiff: 20220809_07-4158_TU_ROI_001_IF_IMC.tiff\n",
      "  warnings.warn(\n",
      "/home/daria_l/anaconda3/envs/mapmet/lib/python3.10/site-packages/xtiff/tiff.py:130: UserWarning: The specified OME-TIFF file name does not end with .ome.tiff: 20220809_07-4158_TU_ROI_004_IF_IMC.tiff\n",
      "  warnings.warn(\n"
     ]
    },
    {
     "name": "stdout",
     "output_type": "stream",
     "text": [
      "Sample 20220809_07-4158_TU finished and saved.\n"
     ]
    },
    {
     "name": "stderr",
     "output_type": "stream",
     "text": [
      "/home/daria_l/anaconda3/envs/mapmet/lib/python3.10/site-packages/xtiff/tiff.py:130: UserWarning: The specified OME-TIFF file name does not end with .ome.tiff: 20220816_11-1208_TU_ROI_001_IF_IMC.tiff\n",
      "  warnings.warn(\n",
      "/home/daria_l/anaconda3/envs/mapmet/lib/python3.10/site-packages/xtiff/tiff.py:130: UserWarning: The specified OME-TIFF file name does not end with .ome.tiff: 20220816_11-1208_TU_ROI_002_IF_IMC.tiff\n",
      "  warnings.warn(\n"
     ]
    },
    {
     "name": "stdout",
     "output_type": "stream",
     "text": [
      "Sample 20220816_11-1208_TU finished and saved.\n"
     ]
    },
    {
     "name": "stderr",
     "output_type": "stream",
     "text": [
      "/home/daria_l/anaconda3/envs/mapmet/lib/python3.10/site-packages/xtiff/tiff.py:130: UserWarning: The specified OME-TIFF file name does not end with .ome.tiff: 20220804_16-0274_TU_ROI_001_IF_IMC.tiff\n",
      "  warnings.warn(\n",
      "/home/daria_l/anaconda3/envs/mapmet/lib/python3.10/site-packages/xtiff/tiff.py:130: UserWarning: The specified OME-TIFF file name does not end with .ome.tiff: 20220804_16-0274_TU_ROI_002_IF_IMC.tiff\n",
      "  warnings.warn(\n",
      "/home/daria_l/anaconda3/envs/mapmet/lib/python3.10/site-packages/xtiff/tiff.py:130: UserWarning: The specified OME-TIFF file name does not end with .ome.tiff: 20220804_16-0274_TU_ROI_004_IF_IMC.tiff\n",
      "  warnings.warn(\n"
     ]
    },
    {
     "name": "stdout",
     "output_type": "stream",
     "text": [
      "Sample 20220804_16-0274_TU finished and saved.\n"
     ]
    },
    {
     "name": "stderr",
     "output_type": "stream",
     "text": [
      "/home/daria_l/anaconda3/envs/mapmet/lib/python3.10/site-packages/xtiff/tiff.py:130: UserWarning: The specified OME-TIFF file name does not end with .ome.tiff: 20220809_16-1934_TU_ROI_002_IF_IMC.tiff\n",
      "  warnings.warn(\n",
      "/home/daria_l/anaconda3/envs/mapmet/lib/python3.10/site-packages/xtiff/tiff.py:130: UserWarning: The specified OME-TIFF file name does not end with .ome.tiff: 20220809_16-1934_TU_ROI_003_IF_IMC.tiff\n",
      "  warnings.warn(\n",
      "/home/daria_l/anaconda3/envs/mapmet/lib/python3.10/site-packages/xtiff/tiff.py:130: UserWarning: The specified OME-TIFF file name does not end with .ome.tiff: 20220809_16-1934_TU_ROI_005_IF_IMC.tiff\n",
      "  warnings.warn(\n",
      "/home/daria_l/anaconda3/envs/mapmet/lib/python3.10/site-packages/xtiff/tiff.py:130: UserWarning: The specified OME-TIFF file name does not end with .ome.tiff: 20220809_16-1934_TU_ROI_004_IF_IMC.tiff\n",
      "  warnings.warn(\n"
     ]
    },
    {
     "name": "stdout",
     "output_type": "stream",
     "text": [
      "Sample 20220809_16-1934_TU finished and saved.\n"
     ]
    },
    {
     "name": "stderr",
     "output_type": "stream",
     "text": [
      "/home/daria_l/anaconda3/envs/mapmet/lib/python3.10/site-packages/xtiff/tiff.py:130: UserWarning: The specified OME-TIFF file name does not end with .ome.tiff: 20220906_03-1501_TU_ROI_003_IF_IMC.tiff\n",
      "  warnings.warn(\n",
      "/home/daria_l/anaconda3/envs/mapmet/lib/python3.10/site-packages/xtiff/tiff.py:130: UserWarning: The specified OME-TIFF file name does not end with .ome.tiff: 20220906_03-1501_TU_ROI_002_IF_IMC.tiff\n",
      "  warnings.warn(\n",
      "/home/daria_l/anaconda3/envs/mapmet/lib/python3.10/site-packages/xtiff/tiff.py:130: UserWarning: The specified OME-TIFF file name does not end with .ome.tiff: 20220906_03-1501_TU_ROI_004_IF_IMC.tiff\n",
      "  warnings.warn(\n",
      "/home/daria_l/anaconda3/envs/mapmet/lib/python3.10/site-packages/xtiff/tiff.py:130: UserWarning: The specified OME-TIFF file name does not end with .ome.tiff: 20220906_03-1501_TU_ROI_001_IF_IMC.tiff\n",
      "  warnings.warn(\n"
     ]
    },
    {
     "name": "stdout",
     "output_type": "stream",
     "text": [
      "Sample 20220906_03-1501_TU finished and saved.\n"
     ]
    },
    {
     "name": "stderr",
     "output_type": "stream",
     "text": [
      "/home/daria_l/anaconda3/envs/mapmet/lib/python3.10/site-packages/xtiff/tiff.py:130: UserWarning: The specified OME-TIFF file name does not end with .ome.tiff: 20220906_03-3536_TU_ROI_002_IF_IMC.tiff\n",
      "  warnings.warn(\n",
      "/home/daria_l/anaconda3/envs/mapmet/lib/python3.10/site-packages/xtiff/tiff.py:130: UserWarning: The specified OME-TIFF file name does not end with .ome.tiff: 20220906_03-3536_TU_ROI_001_IF_IMC.tiff\n",
      "  warnings.warn(\n"
     ]
    },
    {
     "name": "stdout",
     "output_type": "stream",
     "text": [
      "Sample 20220906_03-3536_TU finished and saved.\n"
     ]
    },
    {
     "name": "stderr",
     "output_type": "stream",
     "text": [
      "/home/daria_l/anaconda3/envs/mapmet/lib/python3.10/site-packages/xtiff/tiff.py:130: UserWarning: The specified OME-TIFF file name does not end with .ome.tiff: 20220907_10-1095_TU_ROI_003_IF_IMC.tiff\n",
      "  warnings.warn(\n",
      "/home/daria_l/anaconda3/envs/mapmet/lib/python3.10/site-packages/xtiff/tiff.py:130: UserWarning: The specified OME-TIFF file name does not end with .ome.tiff: 20220907_10-1095_TU_ROI_002_IF_IMC.tiff\n",
      "  warnings.warn(\n",
      "/home/daria_l/anaconda3/envs/mapmet/lib/python3.10/site-packages/xtiff/tiff.py:130: UserWarning: The specified OME-TIFF file name does not end with .ome.tiff: 20220907_10-1095_TU_ROI_004_IF_IMC.tiff\n",
      "  warnings.warn(\n",
      "/home/daria_l/anaconda3/envs/mapmet/lib/python3.10/site-packages/xtiff/tiff.py:130: UserWarning: The specified OME-TIFF file name does not end with .ome.tiff: 20220907_10-1095_TU_ROI_001_IF_IMC.tiff\n",
      "  warnings.warn(\n"
     ]
    },
    {
     "name": "stdout",
     "output_type": "stream",
     "text": [
      "Sample 20220907_10-1095_TU finished and saved.\n"
     ]
    },
    {
     "name": "stderr",
     "output_type": "stream",
     "text": [
      "/home/daria_l/anaconda3/envs/mapmet/lib/python3.10/site-packages/xtiff/tiff.py:130: UserWarning: The specified OME-TIFF file name does not end with .ome.tiff: 20220906_03-0170_TU_ROI_001_IF_IMC.tiff\n",
      "  warnings.warn(\n",
      "/home/daria_l/anaconda3/envs/mapmet/lib/python3.10/site-packages/xtiff/tiff.py:130: UserWarning: The specified OME-TIFF file name does not end with .ome.tiff: 20220906_03-0170_TU_ROI_004_IF_IMC.tiff\n",
      "  warnings.warn(\n",
      "/home/daria_l/anaconda3/envs/mapmet/lib/python3.10/site-packages/xtiff/tiff.py:130: UserWarning: The specified OME-TIFF file name does not end with .ome.tiff: 20220906_03-0170_TU_ROI_002_IF_IMC.tiff\n",
      "  warnings.warn(\n"
     ]
    },
    {
     "name": "stdout",
     "output_type": "stream",
     "text": [
      "Sample 20220906_03-0170_TU finished and saved.\n"
     ]
    },
    {
     "name": "stderr",
     "output_type": "stream",
     "text": [
      "/home/daria_l/anaconda3/envs/mapmet/lib/python3.10/site-packages/xtiff/tiff.py:130: UserWarning: The specified OME-TIFF file name does not end with .ome.tiff: 20220804_17-2178_TU_ROI_002_IF_IMC.tiff\n",
      "  warnings.warn(\n",
      "/home/daria_l/anaconda3/envs/mapmet/lib/python3.10/site-packages/xtiff/tiff.py:130: UserWarning: The specified OME-TIFF file name does not end with .ome.tiff: 20220804_17-2178_TU_ROI_004_IF_IMC.tiff\n",
      "  warnings.warn(\n",
      "/home/daria_l/anaconda3/envs/mapmet/lib/python3.10/site-packages/xtiff/tiff.py:130: UserWarning: The specified OME-TIFF file name does not end with .ome.tiff: 20220804_17-2178_TU_ROI_005_IF_IMC.tiff\n",
      "  warnings.warn(\n",
      "/home/daria_l/anaconda3/envs/mapmet/lib/python3.10/site-packages/xtiff/tiff.py:130: UserWarning: The specified OME-TIFF file name does not end with .ome.tiff: 20220804_17-2178_TU_ROI_003_IF_IMC.tiff\n",
      "  warnings.warn(\n"
     ]
    },
    {
     "name": "stdout",
     "output_type": "stream",
     "text": [
      "Sample 20220804_17-2178_TU finished and saved.\n"
     ]
    },
    {
     "name": "stderr",
     "output_type": "stream",
     "text": [
      "/home/daria_l/anaconda3/envs/mapmet/lib/python3.10/site-packages/xtiff/tiff.py:130: UserWarning: The specified OME-TIFF file name does not end with .ome.tiff: 20220906_02-4010_TU_ROI_005_IF_IMC.tiff\n",
      "  warnings.warn(\n",
      "/home/daria_l/anaconda3/envs/mapmet/lib/python3.10/site-packages/xtiff/tiff.py:130: UserWarning: The specified OME-TIFF file name does not end with .ome.tiff: 20220906_02-4010_TU_ROI_001_IF_IMC.tiff\n",
      "  warnings.warn(\n"
     ]
    },
    {
     "name": "stdout",
     "output_type": "stream",
     "text": [
      "Sample 20220906_02-4010_TU finished and saved.\n"
     ]
    },
    {
     "name": "stderr",
     "output_type": "stream",
     "text": [
      "/home/daria_l/anaconda3/envs/mapmet/lib/python3.10/site-packages/xtiff/tiff.py:130: UserWarning: The specified OME-TIFF file name does not end with .ome.tiff: 20220825_02-2222_TU_ROI_001_IF_IMC.tiff\n",
      "  warnings.warn(\n",
      "/home/daria_l/anaconda3/envs/mapmet/lib/python3.10/site-packages/xtiff/tiff.py:130: UserWarning: The specified OME-TIFF file name does not end with .ome.tiff: 20220825_02-2222_TU_ROI_004_IF_IMC.tiff\n",
      "  warnings.warn(\n",
      "/home/daria_l/anaconda3/envs/mapmet/lib/python3.10/site-packages/xtiff/tiff.py:130: UserWarning: The specified OME-TIFF file name does not end with .ome.tiff: 20220825_02-2222_TU_ROI_005_IF_IMC.tiff\n",
      "  warnings.warn(\n"
     ]
    },
    {
     "name": "stdout",
     "output_type": "stream",
     "text": [
      "Sample 20220825_02-2222_TU finished and saved.\n"
     ]
    },
    {
     "name": "stderr",
     "output_type": "stream",
     "text": [
      "/home/daria_l/anaconda3/envs/mapmet/lib/python3.10/site-packages/xtiff/tiff.py:130: UserWarning: The specified OME-TIFF file name does not end with .ome.tiff: 20220908_21-00438_TU_ROI_004_IF_IMC.tiff\n",
      "  warnings.warn(\n",
      "/home/daria_l/anaconda3/envs/mapmet/lib/python3.10/site-packages/xtiff/tiff.py:130: UserWarning: The specified OME-TIFF file name does not end with .ome.tiff: 20220908_21-00438_TU_ROI_003_IF_IMC.tiff\n",
      "  warnings.warn(\n",
      "/home/daria_l/anaconda3/envs/mapmet/lib/python3.10/site-packages/xtiff/tiff.py:130: UserWarning: The specified OME-TIFF file name does not end with .ome.tiff: 20220908_21-00438_TU_ROI_001_IF_IMC.tiff\n",
      "  warnings.warn(\n",
      "/home/daria_l/anaconda3/envs/mapmet/lib/python3.10/site-packages/xtiff/tiff.py:130: UserWarning: The specified OME-TIFF file name does not end with .ome.tiff: 20220908_21-00438_TU_ROI_002_IF_IMC.tiff\n",
      "  warnings.warn(\n"
     ]
    },
    {
     "name": "stdout",
     "output_type": "stream",
     "text": [
      "Sample 20220908_21-00438_TU finished and saved.\n"
     ]
    },
    {
     "name": "stderr",
     "output_type": "stream",
     "text": [
      "/home/daria_l/anaconda3/envs/mapmet/lib/python3.10/site-packages/xtiff/tiff.py:130: UserWarning: The specified OME-TIFF file name does not end with .ome.tiff: 20220908_21-00560_TU_ROI_004_IF_IMC.tiff\n",
      "  warnings.warn(\n",
      "/home/daria_l/anaconda3/envs/mapmet/lib/python3.10/site-packages/xtiff/tiff.py:130: UserWarning: The specified OME-TIFF file name does not end with .ome.tiff: 20220908_21-00560_TU_ROI_003_IF_IMC.tiff\n",
      "  warnings.warn(\n",
      "/home/daria_l/anaconda3/envs/mapmet/lib/python3.10/site-packages/xtiff/tiff.py:130: UserWarning: The specified OME-TIFF file name does not end with .ome.tiff: 20220908_21-00560_TU_ROI_001_IF_IMC.tiff\n",
      "  warnings.warn(\n",
      "/home/daria_l/anaconda3/envs/mapmet/lib/python3.10/site-packages/xtiff/tiff.py:130: UserWarning: The specified OME-TIFF file name does not end with .ome.tiff: 20220908_21-00560_TU_ROI_002_IF_IMC.tiff\n",
      "  warnings.warn(\n"
     ]
    },
    {
     "name": "stdout",
     "output_type": "stream",
     "text": [
      "Sample 20220908_21-00560_TU finished and saved.\n"
     ]
    },
    {
     "name": "stderr",
     "output_type": "stream",
     "text": [
      "/home/daria_l/anaconda3/envs/mapmet/lib/python3.10/site-packages/xtiff/tiff.py:130: UserWarning: The specified OME-TIFF file name does not end with .ome.tiff: 20220809_16-1927_TU_ROI_002_IF_IMC.tiff\n",
      "  warnings.warn(\n",
      "/home/daria_l/anaconda3/envs/mapmet/lib/python3.10/site-packages/xtiff/tiff.py:130: UserWarning: The specified OME-TIFF file name does not end with .ome.tiff: 20220809_16-1927_TU_ROI_001_IF_IMC.tiff\n",
      "  warnings.warn(\n"
     ]
    },
    {
     "name": "stdout",
     "output_type": "stream",
     "text": [
      "Sample 20220809_16-1927_TU finished and saved.\n"
     ]
    },
    {
     "name": "stderr",
     "output_type": "stream",
     "text": [
      "/home/daria_l/anaconda3/envs/mapmet/lib/python3.10/site-packages/xtiff/tiff.py:130: UserWarning: The specified OME-TIFF file name does not end with .ome.tiff: 20220810_04-2772_TU_ROI_001_IF_IMC.tiff\n",
      "  warnings.warn(\n",
      "/home/daria_l/anaconda3/envs/mapmet/lib/python3.10/site-packages/xtiff/tiff.py:130: UserWarning: The specified OME-TIFF file name does not end with .ome.tiff: 20220810_04-2772_TU_ROI_004_IF_IMC.tiff\n",
      "  warnings.warn(\n",
      "/home/daria_l/anaconda3/envs/mapmet/lib/python3.10/site-packages/xtiff/tiff.py:130: UserWarning: The specified OME-TIFF file name does not end with .ome.tiff: 20220810_04-2772_TU_ROI_003_IF_IMC.tiff\n",
      "  warnings.warn(\n",
      "/home/daria_l/anaconda3/envs/mapmet/lib/python3.10/site-packages/xtiff/tiff.py:130: UserWarning: The specified OME-TIFF file name does not end with .ome.tiff: 20220810_04-2772_TU_ROI_002_IF_IMC.tiff\n",
      "  warnings.warn(\n"
     ]
    },
    {
     "name": "stdout",
     "output_type": "stream",
     "text": [
      "Sample 20220810_04-2772_TU finished and saved.\n"
     ]
    },
    {
     "name": "stderr",
     "output_type": "stream",
     "text": [
      "/home/daria_l/anaconda3/envs/mapmet/lib/python3.10/site-packages/xtiff/tiff.py:130: UserWarning: The specified OME-TIFF file name does not end with .ome.tiff: 20220825_03-3901_TU_ROI_001_IF_IMC.tiff\n",
      "  warnings.warn(\n",
      "/home/daria_l/anaconda3/envs/mapmet/lib/python3.10/site-packages/xtiff/tiff.py:130: UserWarning: The specified OME-TIFF file name does not end with .ome.tiff: 20220825_03-3901_TU_ROI_002_IF_IMC.tiff\n",
      "  warnings.warn(\n",
      "/home/daria_l/anaconda3/envs/mapmet/lib/python3.10/site-packages/xtiff/tiff.py:130: UserWarning: The specified OME-TIFF file name does not end with .ome.tiff: 20220825_03-3901_TU_ROI_004_IF_IMC.tiff\n",
      "  warnings.warn(\n",
      "/home/daria_l/anaconda3/envs/mapmet/lib/python3.10/site-packages/xtiff/tiff.py:130: UserWarning: The specified OME-TIFF file name does not end with .ome.tiff: 20220825_03-3901_TU_ROI_003_IF_IMC.tiff\n",
      "  warnings.warn(\n"
     ]
    },
    {
     "name": "stdout",
     "output_type": "stream",
     "text": [
      "Sample 20220825_03-3901_TU finished and saved.\n"
     ]
    },
    {
     "name": "stderr",
     "output_type": "stream",
     "text": [
      "/home/daria_l/anaconda3/envs/mapmet/lib/python3.10/site-packages/xtiff/tiff.py:130: UserWarning: The specified OME-TIFF file name does not end with .ome.tiff: 20220825_03-0529_TU_ROI_003_IF_IMC.tiff\n",
      "  warnings.warn(\n",
      "/home/daria_l/anaconda3/envs/mapmet/lib/python3.10/site-packages/xtiff/tiff.py:130: UserWarning: The specified OME-TIFF file name does not end with .ome.tiff: 20220825_03-0529_TU_ROI_001_IF_IMC.tiff\n",
      "  warnings.warn(\n",
      "/home/daria_l/anaconda3/envs/mapmet/lib/python3.10/site-packages/xtiff/tiff.py:130: UserWarning: The specified OME-TIFF file name does not end with .ome.tiff: 20220825_03-0529_TU_ROI_002_IF_IMC.tiff\n",
      "  warnings.warn(\n",
      "/home/daria_l/anaconda3/envs/mapmet/lib/python3.10/site-packages/xtiff/tiff.py:130: UserWarning: The specified OME-TIFF file name does not end with .ome.tiff: 20220825_03-0529_TU_ROI_004_IF_IMC.tiff\n",
      "  warnings.warn(\n"
     ]
    },
    {
     "name": "stdout",
     "output_type": "stream",
     "text": [
      "Sample 20220825_03-0529_TU finished and saved.\n"
     ]
    },
    {
     "name": "stderr",
     "output_type": "stream",
     "text": [
      "/home/daria_l/anaconda3/envs/mapmet/lib/python3.10/site-packages/xtiff/tiff.py:130: UserWarning: The specified OME-TIFF file name does not end with .ome.tiff: 20220823_04-4629_TU_ROI_001_IF_IMC.tiff\n",
      "  warnings.warn(\n",
      "/home/daria_l/anaconda3/envs/mapmet/lib/python3.10/site-packages/xtiff/tiff.py:130: UserWarning: The specified OME-TIFF file name does not end with .ome.tiff: 20220823_04-4629_TU_ROI_002_IF_IMC.tiff\n",
      "  warnings.warn(\n"
     ]
    },
    {
     "name": "stdout",
     "output_type": "stream",
     "text": [
      "Sample 20220823_04-4629_TU finished and saved.\n"
     ]
    },
    {
     "name": "stderr",
     "output_type": "stream",
     "text": [
      "/home/daria_l/anaconda3/envs/mapmet/lib/python3.10/site-packages/xtiff/tiff.py:130: UserWarning: The specified OME-TIFF file name does not end with .ome.tiff: 20220908_20-6834_TU_ROI_003_IF_IMC.tiff\n",
      "  warnings.warn(\n",
      "/home/daria_l/anaconda3/envs/mapmet/lib/python3.10/site-packages/xtiff/tiff.py:130: UserWarning: The specified OME-TIFF file name does not end with .ome.tiff: 20220908_20-6834_TU_ROI_004_IF_IMC.tiff\n",
      "  warnings.warn(\n",
      "/home/daria_l/anaconda3/envs/mapmet/lib/python3.10/site-packages/xtiff/tiff.py:130: UserWarning: The specified OME-TIFF file name does not end with .ome.tiff: 20220908_20-6834_TU_ROI_001_IF_IMC.tiff\n",
      "  warnings.warn(\n",
      "/home/daria_l/anaconda3/envs/mapmet/lib/python3.10/site-packages/xtiff/tiff.py:130: UserWarning: The specified OME-TIFF file name does not end with .ome.tiff: 20220908_20-6834_TU_ROI_002_IF_IMC.tiff\n",
      "  warnings.warn(\n"
     ]
    },
    {
     "name": "stdout",
     "output_type": "stream",
     "text": [
      "Sample 20220908_20-6834_TU finished and saved.\n"
     ]
    },
    {
     "name": "stderr",
     "output_type": "stream",
     "text": [
      "/home/daria_l/anaconda3/envs/mapmet/lib/python3.10/site-packages/xtiff/tiff.py:130: UserWarning: The specified OME-TIFF file name does not end with .ome.tiff: 20220908_20-3529_TU_ROI_004_IF_IMC.tiff\n",
      "  warnings.warn(\n",
      "/home/daria_l/anaconda3/envs/mapmet/lib/python3.10/site-packages/xtiff/tiff.py:130: UserWarning: The specified OME-TIFF file name does not end with .ome.tiff: 20220908_20-3529_TU_ROI_002_IF_IMC.tiff\n",
      "  warnings.warn(\n",
      "/home/daria_l/anaconda3/envs/mapmet/lib/python3.10/site-packages/xtiff/tiff.py:130: UserWarning: The specified OME-TIFF file name does not end with .ome.tiff: 20220908_20-3529_TU_ROI_003_IF_IMC.tiff\n",
      "  warnings.warn(\n",
      "/home/daria_l/anaconda3/envs/mapmet/lib/python3.10/site-packages/xtiff/tiff.py:130: UserWarning: The specified OME-TIFF file name does not end with .ome.tiff: 20220908_20-3529_TU_ROI_001_IF_IMC.tiff\n",
      "  warnings.warn(\n"
     ]
    },
    {
     "name": "stdout",
     "output_type": "stream",
     "text": [
      "Sample 20220908_20-3529_TU finished and saved.\n"
     ]
    },
    {
     "name": "stderr",
     "output_type": "stream",
     "text": [
      "/home/daria_l/anaconda3/envs/mapmet/lib/python3.10/site-packages/xtiff/tiff.py:130: UserWarning: The specified OME-TIFF file name does not end with .ome.tiff: 20220907_13-3719_TU_ROI_004_IF_IMC.tiff\n",
      "  warnings.warn(\n",
      "/home/daria_l/anaconda3/envs/mapmet/lib/python3.10/site-packages/xtiff/tiff.py:130: UserWarning: The specified OME-TIFF file name does not end with .ome.tiff: 20220907_13-3719_TU_ROI_003_IF_IMC.tiff\n",
      "  warnings.warn(\n",
      "/home/daria_l/anaconda3/envs/mapmet/lib/python3.10/site-packages/xtiff/tiff.py:130: UserWarning: The specified OME-TIFF file name does not end with .ome.tiff: 20220907_13-3719_TU_ROI_002_IF_IMC.tiff\n",
      "  warnings.warn(\n",
      "/home/daria_l/anaconda3/envs/mapmet/lib/python3.10/site-packages/xtiff/tiff.py:130: UserWarning: The specified OME-TIFF file name does not end with .ome.tiff: 20220907_13-3719_TU_ROI_001_IF_IMC.tiff\n",
      "  warnings.warn(\n"
     ]
    },
    {
     "name": "stdout",
     "output_type": "stream",
     "text": [
      "Sample 20220907_13-3719_TU finished and saved.\n"
     ]
    },
    {
     "name": "stderr",
     "output_type": "stream",
     "text": [
      "/home/daria_l/anaconda3/envs/mapmet/lib/python3.10/site-packages/xtiff/tiff.py:130: UserWarning: The specified OME-TIFF file name does not end with .ome.tiff: 20220908_20-2831_TU_ROI_001_IF_IMC.tiff\n",
      "  warnings.warn(\n",
      "/home/daria_l/anaconda3/envs/mapmet/lib/python3.10/site-packages/xtiff/tiff.py:130: UserWarning: The specified OME-TIFF file name does not end with .ome.tiff: 20220908_20-2831_TU_ROI_002_IF_IMC.tiff\n",
      "  warnings.warn(\n",
      "/home/daria_l/anaconda3/envs/mapmet/lib/python3.10/site-packages/xtiff/tiff.py:130: UserWarning: The specified OME-TIFF file name does not end with .ome.tiff: 20220908_20-2831_TU_ROI_004_IF_IMC.tiff\n",
      "  warnings.warn(\n",
      "/home/daria_l/anaconda3/envs/mapmet/lib/python3.10/site-packages/xtiff/tiff.py:130: UserWarning: The specified OME-TIFF file name does not end with .ome.tiff: 20220908_20-2831_TU_ROI_003_IF_IMC.tiff\n",
      "  warnings.warn(\n"
     ]
    },
    {
     "name": "stdout",
     "output_type": "stream",
     "text": [
      "Sample 20220908_20-2831_TU finished and saved.\n"
     ]
    },
    {
     "name": "stderr",
     "output_type": "stream",
     "text": [
      "/home/daria_l/anaconda3/envs/mapmet/lib/python3.10/site-packages/xtiff/tiff.py:130: UserWarning: The specified OME-TIFF file name does not end with .ome.tiff: 20220809_13-4453_TU_ROI_005_IF_IMC.tiff\n",
      "  warnings.warn(\n",
      "/home/daria_l/anaconda3/envs/mapmet/lib/python3.10/site-packages/xtiff/tiff.py:130: UserWarning: The specified OME-TIFF file name does not end with .ome.tiff: 20220809_13-4453_TU_ROI_003_IF_IMC.tiff\n",
      "  warnings.warn(\n"
     ]
    },
    {
     "name": "stdout",
     "output_type": "stream",
     "text": [
      "Sample 20220809_13-4453_TU finished and saved.\n"
     ]
    }
   ],
   "source": [
    "import os\n",
    "import glob\n",
    "import pandas as pd\n",
    "from functools import reduce\n",
    "import numpy as np \n",
    "import tifffile\n",
    "import matplotlib.pyplot as plt\n",
    "from sklearn.preprocessing import MinMaxScaler\n",
    "from xtiff import to_tiff\n",
    "import re\n",
    "\n",
    "base_path = \"/data_isilon_main/isilon_images/10_MetaSystems/MetaSystemsData/Multimodal_Imaging_Daria\"\n",
    "BM_path = os.path.join(base_path, \"TU\")\n",
    "samples = os.listdir(BM_path)\n",
    "\n",
    "path_to_data = os.path.join(base_path, \"_Data_Analysis/_tmp_daria/Image_analysis/20230112_DIMR_Ilastik/PT\")\n",
    "marker_codes = pd.read_csv(os.path.join(path_to_data, 'marker_codes.csv'), sep=\";\")\n",
    "marker_codes = [i for i in list(marker_codes.new_names) if i not in [\"131Xe-crtl1_Xe131\", \"134Xe-crtl2_Xe134\", \"136Ba-crtl3_Ba136\"]]\n",
    "\n",
    "def merge_on_marker(folder:str, sample: str, data_path:str) -> pd.DataFrame:\n",
    "\n",
    "    roi = os.listdir(os.path.join(BM_path, sample, \"IF_IMC_lowres\"))\n",
    "    df_list = []\n",
    "\n",
    "    for _r in roi:\n",
    "        r = _r.split(\"_IF\")[0]\n",
    "        paths = glob.glob(os.path.join(data_path + \"/*/\" + folder + \"/*/{}*.tiff\".format(r)), recursive=True)\n",
    "        marker = [i.split(\"/\")[-2] for i in paths]\n",
    "        df = pd.DataFrame({\"marker\": marker, r: paths})\n",
    "        df_list.append(df)\n",
    "\n",
    "    merged_df = reduce(lambda df1,df2: pd.merge(df1,df2,on=\"marker\", how=\"outer\"), df_list)\n",
    "    merged_df.set_index(\"marker\", inplace=True)\n",
    "\n",
    "    return merged_df\n",
    "\n",
    "def stack_save(df: pd.DataFrame, out_path: str):\n",
    "    for _roi in df.columns:\n",
    "        mc_image = np.stack(df[_roi])\n",
    "        ch_names = df.index\n",
    "\n",
    "        to_tiff(\n",
    "            mc_image,\n",
    "            os.path.join(out_path, _roi + \"_IF_IMC.tiff\"),\n",
    "            image_name=os.path.join(out_path, _roi + \"_IF_IMC.tiff\"),\n",
    "            channel_names=list(ch_names),\n",
    "            pixel_size=1.0,\n",
    "            pixel_depth=1.0,\n",
    "            )\n",
    "\n",
    "\n",
    "for s in samples: \n",
    "\n",
    "    if not os.path.exists(os.path.join(BM_path, s, \"IF_IMC_ilastik-probabilities\")):\n",
    "        os.mkdir(os.path.join(BM_path, s, \"IF_IMC_ilastik-probabilities\"))\n",
    "    \n",
    "    img_paths_df = merge_on_marker(\"DIMR_ilastik_probabilities\", s, path_to_data)\n",
    "\n",
    "    img_paths_df = img_paths_df.loc[marker_codes, :]\n",
    "\n",
    "    for m in marker_codes:\n",
    "        img_paths = img_paths_df.loc[m]\n",
    "        imgs = np.array([tifffile.imread(f) for f in img_paths])\n",
    "\n",
    "        imgs_cut = imgs[:, 2:-2, 2:-2]\n",
    "\n",
    "        img_paths_df.loc[m] = [i for i in imgs_cut]\n",
    "\n",
    "    stack_save(img_paths_df, os.path.join(BM_path, s, \"IF_IMC_ilastik-probabilities\"))\n",
    "\n",
    "    print(\"Sample \" + s + \" finished and saved.\")"
   ]
  }
 ],
 "metadata": {
  "interpreter": {
   "hash": "dd18fcb992930ebd0a185003cd02c5ba4959ea77415ef3625ae790f298aff120"
  },
  "kernelspec": {
   "display_name": "Python 3.6.13 ('IMC_Denoise': conda)",
   "language": "python",
   "name": "python3"
  },
  "language_info": {
   "codemirror_mode": {
    "name": "ipython",
    "version": 3
   },
   "file_extension": ".py",
   "mimetype": "text/x-python",
   "name": "python",
   "nbconvert_exporter": "python",
   "pygments_lexer": "ipython3",
   "version": "3.10.4"
  },
  "orig_nbformat": 4
 },
 "nbformat": 4,
 "nbformat_minor": 2
}
