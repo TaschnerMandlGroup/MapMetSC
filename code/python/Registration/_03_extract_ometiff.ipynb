{
 "cells": [
  {
   "cell_type": "code",
   "execution_count": 18,
   "metadata": {},
   "outputs": [],
   "source": [
    "from Sample import Sample\n",
    "from _01_preprocess import preprocess\n",
    "from _02_register import FeatureExtractor\n",
    "import matplotlib.pyplot as plt\n",
    "from xtiff import to_tiff\n",
    "import os\n",
    "import glob\n",
    "import pandas as pd\n",
    "import numpy as np\n",
    "import shutil\n",
    "import tifffile as tiff\n",
    "from skimage.transform import resize"
   ]
  },
  {
   "cell_type": "code",
   "execution_count": null,
   "metadata": {},
   "outputs": [],
   "source": [
    "dataset_path = \"/data_isilon_main/isilon_images/10_MetaSystems/MetaSystemsData/Multimodal_Imaging_Daria/TU\"\n",
    "base_path=\"/data_isilon_main/isilon_images/10_MetaSystems/MetaSystemsData/Multimodal_Imaging_Daria/_Data_Analysis/_tmp_daria/Image_analysis/20221010_Steinbock_Mesmer_IFbased/PT\"\n",
    "\n",
    "samples = pd.read_csv(base_path + \"/RoI_to_exclude.csv\", sep=';')"
   ]
  },
  {
   "cell_type": "code",
   "execution_count": 21,
   "metadata": {},
   "outputs": [
    {
     "ename": "IndexError",
     "evalue": "list index out of range",
     "output_type": "error",
     "traceback": [
      "\u001b[0;31m---------------------------------------------------------------------------\u001b[0m",
      "\u001b[0;31mIndexError\u001b[0m                                Traceback (most recent call last)",
      "\u001b[1;32m/home/daria_l/src/MapMet/code/python/Registration/_03_extract_ometiff.ipynb Cell 3'\u001b[0m in \u001b[0;36m<cell line: 1>\u001b[0;34m()\u001b[0m\n\u001b[1;32m      <a href='vscode-notebook-cell://ssh-remote%2Bccri/home/daria_l/src/MapMet/code/python/Registration/_03_extract_ometiff.ipynb#ch0000002vscode-remote?line=0'>1</a>\u001b[0m \u001b[39mfor\u001b[39;00m index, row \u001b[39min\u001b[39;00m samples\u001b[39m.\u001b[39miterrows():\n\u001b[0;32m----> <a href='vscode-notebook-cell://ssh-remote%2Bccri/home/daria_l/src/MapMet/code/python/Registration/_03_extract_ometiff.ipynb#ch0000002vscode-remote?line=2'>3</a>\u001b[0m     sample_path \u001b[39m=\u001b[39m glob\u001b[39m.\u001b[39;49mglob(dataset_path \u001b[39m+\u001b[39;49m \u001b[39m'\u001b[39;49m\u001b[39m/*\u001b[39;49m\u001b[39m{}\u001b[39;49;00m\u001b[39m*\u001b[39;49m\u001b[39m'\u001b[39;49m\u001b[39m.\u001b[39;49mformat(row[\u001b[39m'\u001b[39;49m\u001b[39mSample\u001b[39;49m\u001b[39m'\u001b[39;49m]))[\u001b[39m0\u001b[39;49m]\n\u001b[1;32m      <a href='vscode-notebook-cell://ssh-remote%2Bccri/home/daria_l/src/MapMet/code/python/Registration/_03_extract_ometiff.ipynb#ch0000002vscode-remote?line=3'>4</a>\u001b[0m     S \u001b[39m=\u001b[39m Sample(sample_path)\n\u001b[1;32m      <a href='vscode-notebook-cell://ssh-remote%2Bccri/home/daria_l/src/MapMet/code/python/Registration/_03_extract_ometiff.ipynb#ch0000002vscode-remote?line=5'>6</a>\u001b[0m     \u001b[39mif\u001b[39;00m \u001b[39mnot\u001b[39;00m os\u001b[39m.\u001b[39mpath\u001b[39m.\u001b[39mexists(os\u001b[39m.\u001b[39mpath\u001b[39m.\u001b[39mjoin(sample_path, \u001b[39m'\u001b[39m\u001b[39mIF_IMC_lowres\u001b[39m\u001b[39m'\u001b[39m)):\n",
      "\u001b[0;31mIndexError\u001b[0m: list index out of range"
     ]
    }
   ],
   "source": [
    "for index, row in samples.iterrows():\n",
    "\n",
    "    sample_path = glob.glob(dataset_path + '/*{}*'.format(row['Sample']))[0]\n",
    "    S = Sample(sample_path)\n",
    "\n",
    "    if not os.path.exists(os.path.join(sample_path, 'IF_IMC_lowres')):\n",
    "        os.makedirs(os.path.join(sample_path, 'IF_IMC_lowres'))\n",
    "\n",
    "    for i, roi in enumerate(S.rois):\n",
    "        if not row['exclude'] == \"no\" or row['exclude'] == \"maybe\":\n",
    "            if str(roi.roi_num) in ((row['exclude'].split(','))):\n",
    "                continue\n",
    "\n",
    "        print('RoI_' + str(roi.roi_num) + ': ')\n",
    "        ppIF = preprocess(roi.if_nuc)\n",
    "        ppIMC = preprocess(roi.imc_nuc)\n",
    "\n",
    "        ex = FeatureExtractor(\"sift\")\n",
    "        ex(ppIMC, ppIF)\n",
    "        ex.match()\n",
    "        ex.estimate()\n",
    "\n",
    "        #Apply transformation function to all IF and IMC images\n",
    "        imc_cut, if_cut = ex.warp(im0=roi.imc_imgs, im1=roi.if_imgs)\n",
    "        mc_image = np.concatenate((imc_cut, if_cut), axis=0) \n",
    "\n",
    "        mc_image = np.expand_dims(mc_image, axis=(0, 1, 5))\n",
    "\n",
    "        if roi.roi_num <10:\n",
    "            roi_prefix = \"_ROI_00\"\n",
    "        else:\n",
    "            roi_prefix = \"_ROI_0\"\n",
    "\n",
    "        title= S.sample_name + roi_prefix + str(roi.roi_num) + \"_IF_IMC.tiff\"\n",
    "        to_tiff(\n",
    "            mc_image,\n",
    "            os.path.join(base_path, 'img', title),\n",
    "            image_name=title,\n",
    "            channel_names=[*roi.imc_marker, *roi.if_marker],\n",
    "            pixel_size=1.0,\n",
    "            pixel_depth=1.0,\n",
    "        )\n",
    "\n",
    "        to_tiff(\n",
    "            mc_image,\n",
    "            os.path.join(sample_path, 'IF_IMC_lowres', title),\n",
    "            image_name=title,\n",
    "            channel_names=[*roi.imc_marker, *roi.if_marker],\n",
    "            pixel_size=1.0,\n",
    "            pixel_depth=1.0,\n",
    "        )"
   ]
  }
 ],
 "metadata": {
  "interpreter": {
   "hash": "ed17b7b9d0d327d7bb495f45b6df390da5fbd6f676ee960f37d5c4c6d009e528"
  },
  "kernelspec": {
   "display_name": "Python 3.8.13 ('image_processing': conda)",
   "language": "python",
   "name": "python3"
  },
  "language_info": {
   "codemirror_mode": {
    "name": "ipython",
    "version": 3
   },
   "file_extension": ".py",
   "mimetype": "text/x-python",
   "name": "python",
   "nbconvert_exporter": "python",
   "pygments_lexer": "ipython3",
   "version": "3.10.4"
  },
  "orig_nbformat": 4
 },
 "nbformat": 4,
 "nbformat_minor": 2
}
