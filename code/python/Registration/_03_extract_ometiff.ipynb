{
 "cells": [
  {
   "cell_type": "code",
   "execution_count": 20,
   "metadata": {},
   "outputs": [],
   "source": [
    "import sys\n",
    "sys.path.append(\"/home/daria_l/src/MapMet/code/python\")\n",
    "\n",
    "from Sample import Sample\n",
    "from _01_preprocess import preprocess\n",
    "from _02_register import FeatureExtractor\n",
    "import matplotlib.pyplot as plt\n",
    "from xtiff import to_tiff\n",
    "import os\n",
    "import glob\n",
    "import pandas as pd\n",
    "import numpy as np\n",
    "import shutil\n",
    "import tifffile as tiff\n",
    "from skimage.transform import resize\n"
   ]
  },
  {
   "cell_type": "code",
   "execution_count": 23,
   "metadata": {},
   "outputs": [],
   "source": [
    "dataset_path = \"/data_isilon_main/isilon_images/10_MetaSystems/MetaSystemsData/Multimodal_Imaging_Daria/TU\"\n",
    "base_path=\"/data_isilon_main/isilon_images/10_MetaSystems/MetaSystemsData/Multimodal_Imaging_Daria/_Data_Analysis/_tmp_daria/Image_analysis/20221010_Steinbock_Mesmer_IFbased/PT\"\n",
    "\n",
    "samples = pd.read_csv(base_path + \"/RoI_to_exclude_2.csv\", sep=';')\n",
    "\n"
   ]
  },
  {
   "cell_type": "code",
   "execution_count": 24,
   "metadata": {},
   "outputs": [
    {
     "name": "stderr",
     "output_type": "stream",
     "text": [
      "Possibly corrupted field Artist in Image IFD\n",
      "Possibly corrupted field Artist in Image IFD\n",
      "Possibly corrupted field Artist in Image IFD\n",
      "Possibly corrupted field Artist in Image IFD\n",
      "Possibly corrupted field Artist in Image IFD\n",
      "Possibly corrupted field Artist in Image IFD\n",
      "Possibly corrupted field Artist in Image IFD\n",
      "Possibly corrupted field Artist in Image IFD\n",
      "Possibly corrupted field Artist in Image IFD\n",
      "Possibly corrupted field Artist in Image IFD\n",
      "Possibly corrupted field Artist in Image IFD\n",
      "Possibly corrupted field Artist in Image IFD\n"
     ]
    },
    {
     "name": "stdout",
     "output_type": "stream",
     "text": [
      "Found the following ROIs: [3, 1, 2, 4]\n",
      "RoI_3: \n",
      "0 hot pixels found.\n",
      "1 hot pixels found.\n",
      "Found 112 matches.\n"
     ]
    },
    {
     "name": "stderr",
     "output_type": "stream",
     "text": [
      "/home/daria_l/anaconda3/envs/mapmet/lib/python3.10/site-packages/xtiff/tiff.py:130: UserWarning: The specified OME-TIFF file name does not end with .ome.tiff: 20220907_10-1095_TU_ROI_003_IF_IMC.tiff\n",
      "  warnings.warn(\n"
     ]
    },
    {
     "name": "stdout",
     "output_type": "stream",
     "text": [
      "RoI_1: \n",
      "0 hot pixels found.\n",
      "1 hot pixels found.\n",
      "Found 95 matches.\n"
     ]
    },
    {
     "name": "stderr",
     "output_type": "stream",
     "text": [
      "/home/daria_l/anaconda3/envs/mapmet/lib/python3.10/site-packages/xtiff/tiff.py:130: UserWarning: The specified OME-TIFF file name does not end with .ome.tiff: 20220907_10-1095_TU_ROI_001_IF_IMC.tiff\n",
      "  warnings.warn(\n"
     ]
    },
    {
     "name": "stdout",
     "output_type": "stream",
     "text": [
      "RoI_2: \n",
      "0 hot pixels found.\n",
      "1 hot pixels found.\n",
      "Found 135 matches.\n"
     ]
    },
    {
     "name": "stderr",
     "output_type": "stream",
     "text": [
      "/home/daria_l/anaconda3/envs/mapmet/lib/python3.10/site-packages/xtiff/tiff.py:130: UserWarning: The specified OME-TIFF file name does not end with .ome.tiff: 20220907_10-1095_TU_ROI_002_IF_IMC.tiff\n",
      "  warnings.warn(\n"
     ]
    },
    {
     "name": "stdout",
     "output_type": "stream",
     "text": [
      "RoI_4: \n",
      "0 hot pixels found.\n",
      "8 hot pixels found.\n",
      "Found 40 matches.\n"
     ]
    },
    {
     "name": "stderr",
     "output_type": "stream",
     "text": [
      "/home/daria_l/anaconda3/envs/mapmet/lib/python3.10/site-packages/xtiff/tiff.py:130: UserWarning: The specified OME-TIFF file name does not end with .ome.tiff: 20220907_10-1095_TU_ROI_004_IF_IMC.tiff\n",
      "  warnings.warn(\n"
     ]
    }
   ],
   "source": [
    "for index, row in samples.iterrows():\n",
    "\n",
    "    sample_path = glob.glob(dataset_path + '/*{}*'.format(row['Sample']))[0]\n",
    "    S = Sample(sample_path)\n",
    "\n",
    "    if not os.path.exists(os.path.join(sample_path, 'IF_IMC_lowres')):\n",
    "        os.makedirs(os.path.join(sample_path, 'IF_IMC_lowres'))\n",
    "\n",
    "    for i, roi in enumerate(S.rois):\n",
    "        if not row['exclude'] == \"no\" or row['exclude'] == \"maybe\":\n",
    "            if str(roi.roi_num) in ((row['exclude'].split(','))):\n",
    "                continue\n",
    "\n",
    "        print('RoI_' + str(roi.roi_num) + ': ')\n",
    "        ppIF = preprocess(roi.if_nuc)\n",
    "        ppIMC = preprocess(roi.imc_nuc)\n",
    "\n",
    "        ex = FeatureExtractor(\"sift\")\n",
    "        ex(ppIMC, ppIF)\n",
    "        ex.match()\n",
    "        ex.estimate()\n",
    "\n",
    "        #Apply transformation function to all IF and IMC images\n",
    "        imc_cut, if_cut = ex.warp(im0=roi.imc_imgs, im1=roi.if_imgs)\n",
    "        mc_image = np.concatenate((imc_cut, if_cut), axis=0) \n",
    "\n",
    "        mc_image = np.expand_dims(mc_image, axis=(0, 1, 5))\n",
    "\n",
    "        if roi.roi_num <10:\n",
    "            roi_prefix = \"_ROI_00\"\n",
    "        else:\n",
    "            roi_prefix = \"_ROI_0\"\n",
    "\n",
    "        title= S.sample_name + roi_prefix + str(roi.roi_num) + \"_IF_IMC.tiff\"\n",
    "        to_tiff(\n",
    "            mc_image,\n",
    "            os.path.join(base_path, 'img', title),\n",
    "            image_name=title,\n",
    "            channel_names=[*roi.imc_marker, *roi.if_marker],\n",
    "            pixel_size=1.0,\n",
    "            pixel_depth=1.0,\n",
    "        )\n",
    "\n",
    "        to_tiff(\n",
    "            mc_image,\n",
    "            os.path.join(sample_path, 'IF_IMC_lowres', title),\n",
    "            image_name=title,\n",
    "            channel_names=[*roi.imc_marker, *roi.if_marker],\n",
    "            pixel_size=1.0,\n",
    "            pixel_depth=1.0,\n",
    "        )"
   ]
  }
 ],
 "metadata": {
  "interpreter": {
   "hash": "ed17b7b9d0d327d7bb495f45b6df390da5fbd6f676ee960f37d5c4c6d009e528"
  },
  "kernelspec": {
   "display_name": "Python 3.8.13 ('image_processing': conda)",
   "language": "python",
   "name": "python3"
  },
  "language_info": {
   "codemirror_mode": {
    "name": "ipython",
    "version": 3
   },
   "file_extension": ".py",
   "mimetype": "text/x-python",
   "name": "python",
   "nbconvert_exporter": "python",
   "pygments_lexer": "ipython3",
   "version": "3.10.4"
  },
  "orig_nbformat": 4
 },
 "nbformat": 4,
 "nbformat_minor": 2
}
