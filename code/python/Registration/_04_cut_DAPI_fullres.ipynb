{
 "cells": [
  {
   "cell_type": "code",
   "execution_count": 1,
   "metadata": {},
   "outputs": [],
   "source": [
    "from Sample import Sample\n",
    "from _01_preprocess import preprocess\n",
    "from _02_register import FeatureExtractor\n",
    "import matplotlib.pyplot as plt\n",
    "import os\n",
    "import glob\n",
    "import pandas as pd\n",
    "import tifffile as tiff\n",
    "import exifread\n",
    "import re\n",
    "import numpy as np\n",
    "\n",
    "\n",
    "def get_roi_num(f):\n",
    "    with open(f, 'rb') as fin:\n",
    "        tags = exifread.process_file(fin)\n",
    "\n",
    "    roi_num = str(tags[\"Image Tag 0xB0B7\"]).split(\":\")[-1].split(\"_\")[-1].split(\" \")[0]\n",
    "    return roi_num\n",
    "\n",
    "def _rmlead(inp, char='0'):\n",
    "    for idx, letter in enumerate(inp):\n",
    "        if letter != char:\n",
    "            return inp[idx:]"
   ]
  },
  {
   "cell_type": "code",
   "execution_count": 2,
   "metadata": {},
   "outputs": [],
   "source": [
    "dataset_path = \"/data_isilon_main/isilon_images/10_MetaSystems/MetaSystemsData/Multimodal_Imaging_Daria/BM\""
   ]
  },
  {
   "cell_type": "code",
   "execution_count": 3,
   "metadata": {},
   "outputs": [
    {
     "ename": "KeyboardInterrupt",
     "evalue": "",
     "output_type": "error",
     "traceback": [
      "\u001b[0;31m---------------------------------------------------------------------------\u001b[0m",
      "\u001b[0;31mKeyboardInterrupt\u001b[0m                         Traceback (most recent call last)",
      "\u001b[1;32m/home/daria_l/src/MapMet/code/python/Registration/_04_cut_DAPI_fullres.ipynb Cell 3'\u001b[0m in \u001b[0;36m<cell line: 5>\u001b[0;34m()\u001b[0m\n\u001b[1;32m      <a href='vscode-notebook-cell://ssh-remote%2Bccri/home/daria_l/src/MapMet/code/python/Registration/_04_cut_DAPI_fullres.ipynb#ch0000002vscode-remote?line=2'>3</a>\u001b[0m \u001b[39m#samples = ['20221019_19-5754_BM', '20221019_20-0568_BM']\u001b[39;00m\n\u001b[1;32m      <a href='vscode-notebook-cell://ssh-remote%2Bccri/home/daria_l/src/MapMet/code/python/Registration/_04_cut_DAPI_fullres.ipynb#ch0000002vscode-remote?line=4'>5</a>\u001b[0m \u001b[39mfor\u001b[39;00m s \u001b[39min\u001b[39;00m samples: \n\u001b[0;32m----> <a href='vscode-notebook-cell://ssh-remote%2Bccri/home/daria_l/src/MapMet/code/python/Registration/_04_cut_DAPI_fullres.ipynb#ch0000002vscode-remote?line=5'>6</a>\u001b[0m     \u001b[39mif\u001b[39;00m \u001b[39mnot\u001b[39;00m os\u001b[39m.\u001b[39;49mpath\u001b[39m.\u001b[39;49mexists(os\u001b[39m.\u001b[39;49mpath\u001b[39m.\u001b[39;49mjoin(dataset_path, s, \u001b[39m'\u001b[39;49m\u001b[39mIF_cut_highres\u001b[39;49m\u001b[39m'\u001b[39;49m)):\n\u001b[1;32m      <a href='vscode-notebook-cell://ssh-remote%2Bccri/home/daria_l/src/MapMet/code/python/Registration/_04_cut_DAPI_fullres.ipynb#ch0000002vscode-remote?line=6'>7</a>\u001b[0m         os\u001b[39m.\u001b[39mmakedirs(os\u001b[39m.\u001b[39mpath\u001b[39m.\u001b[39mjoin(dataset_path, s, \u001b[39m'\u001b[39m\u001b[39mIF_cut_highres\u001b[39m\u001b[39m'\u001b[39m))\n\u001b[1;32m      <a href='vscode-notebook-cell://ssh-remote%2Bccri/home/daria_l/src/MapMet/code/python/Registration/_04_cut_DAPI_fullres.ipynb#ch0000002vscode-remote?line=7'>8</a>\u001b[0m     \u001b[39melse\u001b[39;00m:\n",
      "File \u001b[0;32m~/anaconda3/envs/mapmet/lib/python3.10/genericpath.py:19\u001b[0m, in \u001b[0;36mexists\u001b[0;34m(path)\u001b[0m\n\u001b[1;32m     <a href='file:///home/daria_l/anaconda3/envs/mapmet/lib/python3.10/genericpath.py?line=16'>17</a>\u001b[0m \u001b[39m\"\"\"Test whether a path exists.  Returns False for broken symbolic links\"\"\"\u001b[39;00m\n\u001b[1;32m     <a href='file:///home/daria_l/anaconda3/envs/mapmet/lib/python3.10/genericpath.py?line=17'>18</a>\u001b[0m \u001b[39mtry\u001b[39;00m:\n\u001b[0;32m---> <a href='file:///home/daria_l/anaconda3/envs/mapmet/lib/python3.10/genericpath.py?line=18'>19</a>\u001b[0m     os\u001b[39m.\u001b[39;49mstat(path)\n\u001b[1;32m     <a href='file:///home/daria_l/anaconda3/envs/mapmet/lib/python3.10/genericpath.py?line=19'>20</a>\u001b[0m \u001b[39mexcept\u001b[39;00m (\u001b[39mOSError\u001b[39;00m, \u001b[39mValueError\u001b[39;00m):\n\u001b[1;32m     <a href='file:///home/daria_l/anaconda3/envs/mapmet/lib/python3.10/genericpath.py?line=20'>21</a>\u001b[0m     \u001b[39mreturn\u001b[39;00m \u001b[39mFalse\u001b[39;00m\n",
      "\u001b[0;31mKeyboardInterrupt\u001b[0m: "
     ]
    }
   ],
   "source": [
    "samples = os.listdir(dataset_path)\n",
    "\n",
    "#samples = ['20221019_19-5754_BM', '20221019_20-0568_BM']\n",
    "\n",
    "for s in samples: \n",
    "    if not os.path.exists(os.path.join(dataset_path, s, 'IF_cut_highres')):\n",
    "        os.makedirs(os.path.join(dataset_path, s, 'IF_cut_highres'))\n",
    "    #else:\n",
    "    #    continue\n",
    "\n",
    "    lowres_path = os.path.join(dataset_path, s, \"IF_IMC_lowres\")\n",
    "    lowres_image_files = os.listdir(lowres_path)\n",
    "    \n",
    "    if \"Thumbs.db\" in lowres_image_files:\n",
    "        os.remove(os.path.join(lowres_path, 'Thumbs.db'))\n",
    "        lowres_image_files = os.listdir(lowres_path)\n",
    "\n",
    "    highres_path = glob.glob(dataset_path + '/' + s + '/*[sS][pP][oO][tT][sS]*')[0]\n",
    "    highres_img_files = [os.path.join(highres_path, f) for f in os.listdir(highres_path)]\n",
    "    highres_img_rois = [[f,get_roi_num(f), f.split(\".tif\")[0][-1]] for f in highres_img_files]\n",
    "    df = pd.DataFrame(highres_img_rois, columns=[\"file\", \"roi_num\", \"channel\"])\n",
    "\n",
    "    for f in lowres_image_files:\n",
    "        lowres_roi_num = int(_rmlead(re.search('[0-9]+', f.split(\"_\")[-3]).group()))\n",
    "        lowres_img = tiff.imread(os.path.join(lowres_path, f))[-3]\n",
    "        highres_img = tiff.imread(df.loc[(df['roi_num']==str(lowres_roi_num)) & (df['channel']=='B'), 'file'].values[0])\n",
    "\n",
    "        print('Sample:' + s + ' RoI_' + str(lowres_roi_num) + ': ')\n",
    "        pp_highres_img = preprocess(highres_img)\n",
    "        pp_lowres_img = preprocess(lowres_img)\n",
    "\n",
    "        ex = FeatureExtractor(\"sift\")\n",
    "        ex(pp_highres_img, pp_lowres_img)\n",
    "        ex.match()\n",
    "        ex.estimate()\n",
    "\n",
    "        #Apply transformation function to all IF and IMC images\n",
    "        highres_reg, lowres_reg = ex.warp(im0=highres_img, im1=lowres_img)\n",
    "\n",
    "        tmp = np.where(lowres_reg != 0)\n",
    "        highres_cut = highres_img[tmp[0].min():tmp[0].max(), tmp[1].min():tmp[1].max()]\n",
    "\n",
    "        if lowres_roi_num <10:\n",
    "            roi_prefix = \"_ROI_00\"\n",
    "        else:\n",
    "            roi_prefix = \"_ROI_0\"\n",
    "\n",
    "        title= s + roi_prefix + str(lowres_roi_num) + \"_IF_cut.tiff\"\n",
    "\n",
    "        tiff.imwrite(os.path.join(dataset_path, s, 'IF_cut_highres', title), highres_cut)\n",
    "\n"
   ]
  }
 ],
 "metadata": {
  "interpreter": {
   "hash": "6dae562b5a607d4da14c63c5a17cab43f9fcac363604e011ccc2a97f318ecd7b"
  },
  "kernelspec": {
   "display_name": "Python 3.10.4 ('mapmet': conda)",
   "language": "python",
   "name": "python3"
  },
  "language_info": {
   "codemirror_mode": {
    "name": "ipython",
    "version": 3
   },
   "file_extension": ".py",
   "mimetype": "text/x-python",
   "name": "python",
   "nbconvert_exporter": "python",
   "pygments_lexer": "ipython3",
   "version": "3.10.4"
  },
  "orig_nbformat": 4
 },
 "nbformat": 4,
 "nbformat_minor": 2
}
