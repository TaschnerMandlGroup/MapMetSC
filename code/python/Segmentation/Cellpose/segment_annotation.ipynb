{
 "cells": [
  {
   "cell_type": "code",
   "execution_count": 2,
   "metadata": {},
   "outputs": [],
   "source": [
    "import glob\n",
    "import os\n",
    "import pandas as pd\n",
    "import tifffile as tiff\n",
    "import cv2\n",
    "import numpy as np \n",
    "from cellpose import models, io\n",
    "from utils import remove_zero_pad\n",
    "\n",
    "metadata_file = \"/data_isilon_main/isilon_images/10_MetaSystems/MetaSystemsData/Multimodal_Imaging_Daria/_Evaluations/Metadata/metadata.csv\"\n",
    "base_dir = \"/data_isilon_main/isilon_images/10_MetaSystems/MetaSystemsData/Multimodal_Imaging_Daria\"\n",
    "out_dir = base_dir + \"/_Data_Analysis/_tmp_daria/Segmentation/Annotation/Cellpose/30_percent_downscaled\"\n",
    "\n",
    "meta_data = pd.read_csv(metadata_file)\n",
    "\n",
    "meta_data = meta_data.drop(meta_data.index[meta_data['exclude'] != 'no'])\n",
    "meta_data.reset_index(drop=True, inplace=True)\n",
    "\n",
    "model = models.Cellpose(gpu=True, model_type='cyto')\n",
    "channels = [0,0]\n",
    "\n",
    "\n",
    "dim_large = 4068\n",
    "dim_small = 1343\n",
    "#dim_small = 512\n",
    "\n",
    "for s in meta_data['Sample']:\n",
    "    if s != '06-2847':\n",
    "        continue\n",
    "    sample_dir = glob.glob(base_dir + '/*{}*'.format(s))[0]\n",
    "    try:\n",
    "        filename = glob.glob(sample_dir + '/*/*Spot*-B*')[0]\n",
    "    except:\n",
    "        raise Exception(f\"No ROIs found in '{sample_dir}'\")\n",
    "\n",
    "    img_cut = remove_zero_pad(tiff.imread(filename))[:dim_large, :dim_large]\n",
    "    \n",
    "    img_small = cv2.resize(img_cut, dsize=(dim_small,dim_small)) \n",
    "    tiff.imwrite(os.path.join(out_dir, \"raw_cut\", s + \".tiff\"), img_small)\n",
    "\n",
    "    # masks, flows, styles, diams = model.eval(img_small, diameter=30, channels=channels, flow_threshold=0, cellprob_threshold=0.5)\n",
    "    masks, flows, styles, diams = model.eval(img_small, diameter=30, channels=channels)\n",
    "    \n",
    "    #masks_large = cv2.resize(masks, dsize=(dim_large,dim_large), interpolation = cv2.INTER_NEAREST)\n",
    "    #flows_large = cv2.resize(flows[0], dsize=(dim_large,dim_large))\n",
    "    tiff.imwrite(os.path.join(out_dir, \"masks\", s + \".tiff\"), masks)\n",
    "    tiff.imwrite(os.path.join(out_dir, \"flows\", s + \".tiff\"), flows[0])\n",
    "\n",
    "\n",
    "\n",
    "\n",
    "\n"
   ]
  }
 ],
 "metadata": {
  "interpreter": {
   "hash": "08a78df9be0a7b5bd8067572225b2d53578ca7580832463a6a6285364a0c1aa0"
  },
  "kernelspec": {
   "display_name": "Python 3.9.13 ('cellpose1': conda)",
   "language": "python",
   "name": "python3"
  },
  "language_info": {
   "codemirror_mode": {
    "name": "ipython",
    "version": 3
   },
   "file_extension": ".py",
   "mimetype": "text/x-python",
   "name": "python",
   "nbconvert_exporter": "python",
   "pygments_lexer": "ipython3",
   "version": "3.9.13"
  },
  "orig_nbformat": 4
 },
 "nbformat": 4,
 "nbformat_minor": 2
}
