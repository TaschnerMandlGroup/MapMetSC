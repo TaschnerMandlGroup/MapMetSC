{
 "cells": [
  {
   "cell_type": "code",
   "execution_count": 5,
   "metadata": {},
   "outputs": [],
   "source": [
    "import os\n",
    "import tifffile as tiff\n",
    "from cellpose import models, io\n",
    "import cv2\n",
    "\n",
    "base_dir = \"/data_isilon_main/isilon_images/10_MetaSystems/MetaSystemsData/Multimodal_Imaging_Daria/_Data_Analysis/_tmp_daria/Image_analysis/20221102_Steinbock_Mesmer_IFbased/BM/neg\"\n",
    "\n",
    "\n",
    "model = models.Cellpose(gpu=True, model_type='cyto')\n",
    "channels = [0,0]\n",
    "\n",
    "#dim_large = 4000\n",
    "#dim_small = 1343\n",
    "\n",
    "for i in os.listdir(os.path.join(base_dir, 'img_nuclear_vis')):\n",
    "\n",
    "    #img = tiff.imread(os.path.join(base_dir,'img_vis', i))[0, :dim_large, :dim_large]\n",
    "    img = tiff.imread(os.path.join(base_dir,'img_nuclear_vis', i))\n",
    "    #img = cv2.resize(img, dsize=(dim_small,dim_small)) \n",
    "    masks, flows, styles, diams = model.eval(img, channels=channels, diameter=7)\n",
    "\n",
    "    tiff.imwrite(os.path.join(base_dir, \"masks_cellpose\", i.split(\".\")[0] + '_mask.tif'), masks)\n",
    "\n",
    "\n",
    "\n",
    "\n",
    "\n"
   ]
  }
 ],
 "metadata": {
  "interpreter": {
   "hash": "6bb3004e0d868ad88cdf775892ec8a60057e58bafeed0f17d5b49b05ed525c8f"
  },
  "kernelspec": {
   "display_name": "Python 3.9.13 ('cellpose': conda)",
   "language": "python",
   "name": "python3"
  },
  "language_info": {
   "codemirror_mode": {
    "name": "ipython",
    "version": 3
   },
   "file_extension": ".py",
   "mimetype": "text/x-python",
   "name": "python",
   "nbconvert_exporter": "python",
   "pygments_lexer": "ipython3",
   "version": "3.9.13"
  },
  "orig_nbformat": 4
 },
 "nbformat": 4,
 "nbformat_minor": 2
}
