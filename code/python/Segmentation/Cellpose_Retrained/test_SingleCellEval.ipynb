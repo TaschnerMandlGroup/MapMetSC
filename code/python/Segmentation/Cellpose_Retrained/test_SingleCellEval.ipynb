{
 "cells": [
  {
   "cell_type": "code",
   "execution_count": 1,
   "metadata": {},
   "outputs": [],
   "source": [
    "import sys\n",
    "sys.path.append(\"/home/daria_l/src/MapMet/code/python\")"
   ]
  },
  {
   "cell_type": "code",
   "execution_count": 2,
   "metadata": {},
   "outputs": [
    {
     "name": "stderr",
     "output_type": "stream",
     "text": [
      "/home/daria_l/anaconda3/envs/cellpose/lib/python3.9/site-packages/tqdm/auto.py:22: TqdmWarning: IProgress not found. Please update jupyter and ipywidgets. See https://ipywidgets.readthedocs.io/en/stable/user_install.html\n",
      "  from .autonotebook import tqdm as notebook_tqdm\n"
     ]
    }
   ],
   "source": [
    "from Segmentation.Cellpose_Retrained import main_function\n",
    "import numpy as np\n",
    "import matplotlib.pyplot as plt\n",
    "import tifffile\n",
    "import xml\n",
    "import pandas as pd\n",
    "import io\n",
    "import os\n",
    "import shutil\n",
    "from Segmentation.Cellpose_Retrained.morphology_functions import DEEPCELL_MEASURES\n",
    "from Segmentation.Cellpose_Retrained.intensity_functions import mean_intensity, mean_80_intensity"
   ]
  },
  {
   "cell_type": "code",
   "execution_count": 3,
   "metadata": {},
   "outputs": [],
   "source": [
    "from cellpose import models \n",
    "#for PT\n",
    "#model_path = '/data_isilon_main/isilon_images/10_MetaSystems/MetaSystemsData/Multimodal_Imaging_Daria/_Data_Analysis/_tmp_simon/TU_segmentation/RETRAIN/COMBINED/models/CP_20230305_30000epochs'\n",
    "model_path = '/data_isilon_main/isilon_images/10_MetaSystems/MetaSystemsData/Multimodal_Imaging_Daria/_Data_Analysis/_tmp_simon/diameter_evaluation/ausschnitte/models/CP_clusters_final'\n",
    "\n",
    "m = models.CellposeModel(model_type = model_path, gpu=True)\n",
    "\n",
    "def read_channel_names(path):\n",
    "    \n",
    "    tiff = tifffile.TiffFile(path)\n",
    "    omexml_string = tiff.pages[0].description\n",
    "    root = xml.etree.ElementTree.parse(io.StringIO(omexml_string))\n",
    "    namespaces = {'ome': 'http://www.openmicroscopy.org/Schemas/OME/2016-06'}\n",
    "    channels = root.findall('ome:Image[1]/ome:Pixels/ome:Channel', namespaces)\n",
    "    channel_names = [c.attrib['Name'] for c in channels]\n",
    "    return channel_names"
   ]
  },
  {
   "cell_type": "code",
   "execution_count": 1,
   "metadata": {},
   "outputs": [],
   "source": [
    "base_path = \"/data_isilon_main/isilon_images/10_MetaSystems/MetaSystemsData/Multimodal_Imaging_Daria\"\n",
    "\n",
    "BM_path = os.path.join(base_path, \"BM\")\n",
    "out_path = os.path.join(base_path, \"_Data_Analysis/_tmp_daria/Image_analysis/20230112_DIMR_Ilastik/BM/20230308_sc_data/simple_segmentation\")\n",
    "samples = os.listdir(BM_path)\n",
    "\n",
    "x=0"
   ]
  },
  {
   "cell_type": "code",
   "execution_count": 4,
   "metadata": {},
   "outputs": [
    {
     "name": "stdout",
     "output_type": "stream",
     "text": [
      "0 hot pixels found.\n",
      "0 hot pixels found.\n",
      "Found 9438 matches.\n",
      "0 hot pixels found.\n",
      "0 hot pixels found.\n",
      "Found 9598 matches.\n",
      "0 hot pixels found.\n",
      "0 hot pixels found.\n",
      "Found 9979 matches.\n",
      "0 hot pixels found.\n",
      "0 hot pixels found.\n",
      "Found 9172 matches.\n",
      "0 hot pixels found.\n",
      "0 hot pixels found.\n",
      "Found 9481 matches.\n",
      "0 hot pixels found.\n",
      "0 hot pixels found.\n",
      "Found 9163 matches.\n",
      "0 hot pixels found.\n",
      "0 hot pixels found.\n",
      "Found 9418 matches.\n",
      "0 hot pixels found.\n",
      "0 hot pixels found.\n",
      "Found 6737 matches.\n",
      "0 hot pixels found.\n",
      "0 hot pixels found.\n",
      "Found 7078 matches.\n",
      "0 hot pixels found.\n",
      "0 hot pixels found.\n",
      "Found 6229 matches.\n"
     ]
    }
   ],
   "source": [
    "base_path = \"/data_isilon_main/isilon_images/10_MetaSystems/MetaSystemsData/Multimodal_Imaging_Daria\"\n",
    "\n",
    "BM_path = os.path.join(base_path, \"BM\")\n",
    "out_path = os.path.join(base_path, \"_Data_Analysis/_tmp_daria/Image_analysis/20230112_DIMR_Ilastik/BM/20230308_sc_data/simple_segmentation\")\n",
    "samples = os.listdir(BM_path)\n",
    "\n",
    "for s in samples[121:]: \n",
    "\n",
    "    lowres_path = os.path.join(BM_path, s, \"IF_IMC_processed\")\n",
    "    highres_path = os.path.join(BM_path, s, \"IF_cut_highres\")\n",
    "\n",
    "    lowres_image_files = os.listdir(lowres_path)\n",
    "\n",
    "    for f in lowres_image_files:\n",
    "\n",
    "        shutil.copyfile(os.path.join(lowres_path, f), os.path.join(out_path, \"img\", f))\n",
    "\n",
    "        IMC = tifffile.imread(os.path.join(lowres_path, f))\n",
    "        I = tifffile.imread(os.path.join(highres_path, f.split(\"IMC\")[0]+\"cut.tiff\"))\n",
    "\n",
    "        channel_names = read_channel_names(os.path.join(lowres_path, f))\n",
    "\n",
    "        masks, masks_d_1px, masks_d_2px, i_features, i_features_d_1px, i_features_d_2px, m_features = main_function(I, \n",
    "                                   intensity_image=IMC,\n",
    "                                   cellpose_net=m,\n",
    "                                   #eval_kwargs={\"diameter\": 31.19}, #for PT\n",
    "                                   eval_kwargs={\"diameter\": 55}, #for BM\n",
    "                                   #refine=False, #for PT\n",
    "                                   refine = True, #for BM\n",
    "                                   t=0.12, \n",
    "                                   out_sz=None,\n",
    "                                   extract_intensity_features=True, \n",
    "                                   #intensity_function=mean_intensity,\n",
    "                                   channel_names=channel_names,\n",
    "                                   extract_morph_features=True,\n",
    "                                   additional_morphology_functions=DEEPCELL_MEASURES,\n",
    "                                   debug_msg=False)\n",
    "\n",
    "        tifffile.imwrite(os.path.join(out_path, \"img_vis\", f), IMC[-3])\n",
    "        m_features.to_csv(os.path.join(out_path, \"regionprops\", f.split(\".\")[0] + \".csv\"))\n",
    "\n",
    "\n",
    "        tifffile.imwrite(os.path.join(out_path, \"masks_no-dil\", f), np.expand_dims(masks, axis=(0, 1, 2, 5)))\n",
    "        tifffile.imwrite(os.path.join(out_path, \"masks_vis_no-dil\", f), masks)\n",
    "        i_features.to_csv(os.path.join(out_path, \"intensities_no-dil\", f.split(\".\")[0] + \".csv\"))\n",
    "\n",
    "        tifffile.imwrite(os.path.join(out_path, \"masks_dil-1px\", f), np.expand_dims(masks_d_1px, axis=(0, 1, 2, 5)))\n",
    "        tifffile.imwrite(os.path.join(out_path, \"masks_vis_dil-1px\", f), masks_d_1px)\n",
    "        i_features_d_1px.to_csv(os.path.join(out_path, \"intensities_dil-1px\", f.split(\".\")[0] + \".csv\"))\n",
    "\n",
    "        tifffile.imwrite(os.path.join(out_path, \"masks_dil-2px\", f), np.expand_dims(masks_d_2px, axis=(0, 1, 2, 5)))\n",
    "        tifffile.imwrite(os.path.join(out_path, \"masks_vis_dil-2px\", f), masks_d_2px)\n",
    "        i_features_d_2px.to_csv(os.path.join(out_path, \"intensities_dil-2px\", f.split(\".\")[0] + \".csv\"))\n",
    "\n",
    "\n"
   ]
  },
  {
   "cell_type": "code",
   "execution_count": null,
   "metadata": {},
   "outputs": [],
   "source": []
  }
 ],
 "metadata": {
  "kernelspec": {
   "display_name": "BB",
   "language": "python",
   "name": "python3"
  },
  "language_info": {
   "codemirror_mode": {
    "name": "ipython",
    "version": 3
   },
   "file_extension": ".py",
   "mimetype": "text/x-python",
   "name": "python",
   "nbconvert_exporter": "python",
   "pygments_lexer": "ipython3",
   "version": "3.9.13"
  },
  "orig_nbformat": 4,
  "vscode": {
   "interpreter": {
    "hash": "9d63b14cd6ab63ec18359f1ef4f96f0821945ecd9c555e0a621512114c620b52"
   }
  }
 },
 "nbformat": 4,
 "nbformat_minor": 2
}
