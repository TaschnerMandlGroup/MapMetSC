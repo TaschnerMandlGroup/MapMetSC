{
 "cells": [
  {
   "cell_type": "code",
   "execution_count": null,
   "id": "03272e1d",
   "metadata": {},
   "outputs": [],
   "source": [
    "import matplotlib.pyplot as plt\n",
    "import numpy as np\n",
    "import pandas as pd\n",
    "import xtiff\n",
    "\n",
    "from deepcell.applications import Mesmer\n",
    "from matplotlib.colors import ListedColormap\n",
    "from pathlib import Path\n",
    "from skimage.segmentation import expand_labels\n",
    "import sklearn\n",
    "\n",
    "from steinbock import io\n",
    "from steinbock.preprocessing import imc\n",
    "from steinbock.segmentation import deepcell\n",
    "from steinbock.measurement import intensities, regionprops, neighbors\n",
    "\n",
    "import helpers"
   ]
  },
  {
   "cell_type": "markdown",
   "id": "60effd8d",
   "metadata": {},
   "source": [
    "# IMC preprocessing pipeline\n",
    "\n",
    "This pipeline will extract image data from IMC aquisitions located in the `raw` folder and generate single cell data. Intermediary steps include the extraction of image stacks selected from the panel file as well as segmentation masks. The single cell data is extracted from the chanels selected in the panel.\n",
    "\n",
    "Before running your own script please check the [steinbock documentation](https://bodenmillergroup.github.io/steinbock).\n",
    "\n",
    "*Installation*  \n",
    "To install the required python environment, follow the instructions here: https://bodenmillergroup.github.io/steinbock/latest/install-python/"
   ]
  },
  {
   "cell_type": "markdown",
   "id": "78631d1b",
   "metadata": {},
   "source": [
    "## Settings\n",
    "\n",
    "Example data can be downloaded using the `download_examples.ipynb` script.\n",
    "\n",
    "### Input and output directories\n",
    "\n",
    "Folder structure:"
   ]
  },
  {
   "cell_type": "raw",
   "id": "7653ded1",
   "metadata": {},
   "source": [
    "steinbock data/working directory  \n",
    "├── raw   \n",
    "|    └──── *.zip (raw data)\n",
    "├── panel.csv (user-provided, when starting from raw data) \n",
    "├── img (created by this script)  \n",
    "├── segstacks (created by this script)  \n",
    "├── masks (created by this script)  \n",
    "├── intensities (created by this script)  \n",
    "├── regionprops (created by this script)  \n",
    "└── neighbors (created by this script)  "
   ]
  },
  {
   "cell_type": "code",
   "execution_count": null,
   "id": "9bf32739",
   "metadata": {},
   "outputs": [],
   "source": [
    "resolution = 'low_res' #high_res=4000x4000, low_res=700x700\n",
    "modality = 'IF'\n",
    "img_folder = 'img_' + resolution\n",
    "parameter_set = 'parameter_set1'\n",
    "\n",
    "sup_super_base = Path(\"/data_isilon_main/isilon_images/10_MetaSystems/MetaSystemsData/Multimodal_Imaging_Daria/_Data_Analysis/_tmp_daria/Segmentation/20220723_Mesmer_IFvsIMC\")\n",
    "\n",
    "# Output directories\n",
    "img_dir = sup_super_base / img_folder\n",
    "super_base = sup_super_base / parameter_set\n",
    "summary_dir = super_base /\"summary\"\n",
    "base_dir_top = super_base / resolution\n",
    "base_dir = base_dir_top / modality\n",
    "masks_dir = base_dir / \"masks\"\n",
    "segstack_dir = base_dir / \"segstacks\"\n",
    "outline_dir = masks_dir / 'outline'\n",
    "\n",
    "# Create directories (if they do not already exist)\n",
    "#super_base.mkdir(exist_ok=True)\n",
    "super_base.mkdir(exist_ok=True)\n",
    "base_dir_top.mkdir(exist_ok=True)\n",
    "base_dir.mkdir(exist_ok=True)\n",
    "summary_dir.mkdir(exist_ok=True)\n",
    "img_dir.mkdir(exist_ok=True)\n",
    "masks_dir.mkdir(exist_ok=True)\n",
    "segstack_dir.mkdir(exist_ok=True)\n",
    "outline_dir.mkdir(exist_ok=True)"
   ]
  },
  {
   "cell_type": "markdown",
   "id": "6346022c",
   "metadata": {},
   "source": [
    "## Extract images from `.mcd` files\n",
    "\n",
    "Documentation: https://bodenmillergroup.github.io/steinbock/latest/cli/preprocessing/#external-images\n",
    "\n",
    "### Import the panel\n",
    "The antibody panel should meet the steinbock format: https://bodenmillergroup.github.io/steinbock/latest/file-types/#panel  \n",
    "\n",
    "An example panel corresponding to the example data (downloadable via the `download_examples.ipynb` script is provided.\n",
    "\n",
    "Customized panels should contain the following columns:\n",
    "+ `channel`: unique channel id, typically metal and isotope mass (e.g. `Ir191`)\n",
    "+ `name`: unique channel name.\n",
    "+ `deepcell`: channels to use for segmentation (1=nuclear, 2=membrane, empty/NaN=ignored).\n",
    "+ `keep`: *(optional)* 1 for channels to preprocess, 0 for channels to ignore"
   ]
  },
  {
   "cell_type": "code",
   "execution_count": null,
   "id": "c383e878",
   "metadata": {},
   "outputs": [],
   "source": [
    "imc_panel = pd.read_csv('panel_' + modality + '.csv')\n",
    "\n",
    "if \"keep\" in imc_panel.columns:\n",
    "    imc_panel = imc_panel[imc_panel[\"keep\"]==1]\n",
    "imc_panel.head()"
   ]
  },
  {
   "cell_type": "markdown",
   "id": "036eb9cd",
   "metadata": {},
   "source": [
    "## Cell segmentation\n",
    "\n",
    "Documentation: https://bodenmillergroup.github.io/steinbock/latest/cli/segmentation/#deepcell  "
   ]
  },
  {
   "cell_type": "markdown",
   "id": "d600c488",
   "metadata": {},
   "source": [
    "### Prepare segmentation stacks\n",
    "\n",
    "Segmentation stacks are generated by aggregating the channels selcted in `panel.csv` in the column `deepcell`. \n",
    "Cell segmentation requires to construct as 2-channel images with the following structure:\n",
    "+ Channel 1 = nuclear channels\n",
    "+ Channel 2 = cytoplasmic/membranous channels.\n",
    "\n",
    "For channel-wise normalization, zscore and min-max methods are available.  \n",
    "In addition, different functions can be used to aggregate channels. Default: `np.mean`, for other options, see https://numpy.org/doc/stable/reference/routines.statistics.html#averages-and-variances."
   ]
  },
  {
   "cell_type": "code",
   "execution_count": null,
   "id": "99c79f03",
   "metadata": {},
   "outputs": [],
   "source": [
    "# Define image preprocessing options\n",
    "channelwise_zscore = True\n",
    "channelwise_minmax = False\n",
    "aggr_func = np.sum\n",
    "\n",
    "# Define channels to use for segmentation (from the panel file)\n",
    "channel_groups = imc_panel[\"deepcell\"].values\n",
    "channel_groups = np.where(channel_groups == 0, np.nan, channel_groups) # make sure unselected chanels are set to nan"
   ]
  },
  {
   "cell_type": "markdown",
   "id": "d1b5e94f",
   "metadata": {},
   "source": [
    "#### Generate segmentation stacks"
   ]
  },
  {
   "cell_type": "code",
   "execution_count": null,
   "id": "495a103c",
   "metadata": {},
   "outputs": [],
   "source": [
    "for img_path in sorted(Path(img_dir).glob(\"*.tiff\")):\n",
    "    img = io.read_image(img_path)\n",
    "    if channelwise_minmax:\n",
    "        img = helpers.norm_minmax(img)\n",
    "    \n",
    "    if channelwise_zscore:\n",
    "        img = helpers.norm_zscore(img)\n",
    "    \n",
    "    if channel_groups is not None:\n",
    "        img = helpers.segstack_channels(img, channel_groups, aggr_func)\n",
    "    \n",
    "    img_file = Path(segstack_dir) / f\"{img_path.name}\"\n",
    "    io.write_image(img, img_file)"
   ]
  },
  {
   "cell_type": "markdown",
   "id": "d5fd1183",
   "metadata": {},
   "source": [
    "#### Check segmentation stacks"
   ]
  },
  {
   "cell_type": "code",
   "execution_count": null,
   "id": "62b65c48",
   "metadata": {},
   "outputs": [],
   "source": [
    "# List segmentation stacks\n",
    "segstacks = sorted(Path(segstack_dir).glob(\"*.tiff\"))\n",
    "\n",
    "# Select a random image\n",
    "rng = np.random.default_rng()\n",
    "ix = rng.choice(len(segstacks))\n",
    "\n",
    "# Display nuclear and membrane/cytoplasm images\n",
    "fig, ax = plt.subplots(1, 2, figsize=(30, 30))\n",
    "\n",
    "img = io.read_image(segstacks[ix])\n",
    "ax[0].imshow(img[0,:,:], vmin=0, vmax=8) # adjust vmax if needed (lower value = higher intensity)\n",
    "ax[0].set_title(segstacks[ix].stem + \": nuclei\")\n",
    "\n",
    "img = io.read_image(segstacks[ix])\n",
    "ax[1].imshow(img[1,:,:], vmin=0, vmax=8) # adjust vmax if needed (lower value = higher intensity)\n",
    "ax[1].set_title(segstacks[ix].stem + \": membrane\")"
   ]
  },
  {
   "cell_type": "markdown",
   "id": "04b0673a",
   "metadata": {},
   "source": [
    "### Segment cells\n",
    "\n",
    "`segmentation_type` should be one of [`whole-cell`, `nuclear`, `both`].  \n",
    "If `both` is selected, nuclear and whole-cell masks will be generated in separate subfolders.  \n",
    "\n",
    "Several post-processing arguments can be passed to the deepcell application, the defaults are selected below. Cell labels can also be expanded by defining an `expansion_distance` (mostly useful for nuclear segmentation)."
   ]
  },
  {
   "cell_type": "code",
   "execution_count": null,
   "id": "5684e1bd",
   "metadata": {},
   "outputs": [],
   "source": [
    "# Segmentation type\n",
    "segmentation_type = \"nuclear\"\n",
    "\n",
    "# Post-processing arguments for whole-cell segmentation\n",
    "kwargs_whole_cell =  {\n",
    "    'maxima_threshold': 0.075,\n",
    "    'maxima_smooth': 0,\n",
    "    'interior_threshold': 0.2,\n",
    "    'interior_smooth': 2,\n",
    "    'small_objects_threshold': 15,\n",
    "    'fill_holes_threshold': 15,\n",
    "    'radius': 2\n",
    "}\n",
    "\n",
    "# Post-processing arguments for nuclear segmentation\n",
    "kwargs_nuclear =  {\n",
    "    'maxima_threshold': 0.1,\n",
    "    'maxima_smooth': 0,\n",
    "    'interior_threshold': 0.2,\n",
    "    'interior_smooth': 2,\n",
    "    'small_objects_threshold': 15,\n",
    "    'fill_holes_threshold': 15,\n",
    "    'radius': 2\n",
    "}\n",
    "\n",
    "df = pd.DataFrame(kwargs_nuclear, index=[0])\n",
    "df.to_csv(super_base / 'kwargs_nuclear.csv', sep=';')\n",
    "\n",
    "# Mask pixel expansion (0 = no expansion)\n",
    "expansion_distance = 0\n",
    "\n",
    "#Micrometer per pixel\n",
    "if resolution == 'high':\n",
    "    mpp=0.2\n",
    "else:\n",
    "    mpp=1.0"
   ]
  },
  {
   "cell_type": "code",
   "execution_count": null,
   "id": "f86bb6c3",
   "metadata": {},
   "outputs": [],
   "source": [
    "from deepcell.utils.plot_utils import make_outline_overlay, create_rgb_image\n",
    "from skimage.segmentation import find_boundaries\n",
    "import tifffile as tiff\n",
    "\n",
    "def make_outline_overlay(rgb_data, predictions):\n",
    "\n",
    "    boundaries = np.zeros_like(rgb_data)\n",
    "    overlay_data = np.copy(rgb_data)\n",
    "\n",
    "    for img in range(predictions.shape[0]):\n",
    "        boundary = find_boundaries(predictions[img, ..., 0], connectivity=1, mode='thick')\n",
    "        boundaries[img, boundary > 0, :] = 1\n",
    "\n",
    "    overlay_data[boundaries > 0] = 1\n",
    "\n",
    "    return overlay_data\n",
    "\n",
    "def create_outline(im, mask):\n",
    "    \n",
    "    rgb = create_rgb_image(im, [\"blue\"])\n",
    "    outline = make_outline_overlay(rgb, mask)\n",
    "    \n",
    "    return outline.squeeze()\n",
    "\n",
    "if modality == 'IF':\n",
    "    idx = 1\n",
    "else:\n",
    "    idx=0\n",
    "\n",
    "app = Mesmer()\n",
    "\n",
    "for stack in segstacks:\n",
    "    img = io.read_image(stack)\n",
    "    img = np.moveaxis(img, 0, 2)\n",
    "    img = np.expand_dims(img.data, 0)\n",
    "    \n",
    "    mask = app.predict(\n",
    "        img, image_mpp=mpp, compartment=segmentation_type,\n",
    "        postprocess_kwargs_whole_cell=kwargs_whole_cell,\n",
    "        postprocess_kwargs_nuclear=kwargs_nuclear\n",
    "    )\n",
    "\n",
    "    tmp_img = np.zeros_like(img)\n",
    "    tmp_img = np.expand_dims(tmp_img[:,:,:,idx], -1)\n",
    "    \n",
    "    o = create_outline(tmp_img, mask)\n",
    "\n",
    "    img_name = stack.name.split('.')[0] + '_' + modality + '_img.tif'\n",
    "    mask_name = stack.name.split('.')[0] + '_' + modality + '_mask.tif'\n",
    "    raw = tiff.imread(img_dir / stack.name)\n",
    "    tiff.imwrite(outline_dir/ img_name, raw[idx])\n",
    "    tiff.imwrite(outline_dir / mask_name, o[:,:,0])\n",
    "    \n",
    "    helpers.save_masks(\n",
    "        mask, masks_dir, stack.name,\n",
    "        segmentation_type, expansion_distance\n",
    "    )"
   ]
  },
  {
   "cell_type": "code",
   "execution_count": null,
   "id": "9b2177d8",
   "metadata": {},
   "outputs": [],
   "source": [
    "import shutil\n",
    "import os\n",
    "\n",
    "files = os.listdir(outline_dir)\n",
    " \n",
    "shutil.copytree(outline_dir, summary_dir, dirs_exist_ok=True)"
   ]
  }
 ],
 "metadata": {
  "jupytext": {
   "formats": "ipynb,auto:percent"
  },
  "kernelspec": {
   "display_name": "Python 3 (ipykernel)",
   "language": "python",
   "name": "python3"
  },
  "language_info": {
   "codemirror_mode": {
    "name": "ipython",
    "version": 3
   },
   "file_extension": ".py",
   "mimetype": "text/x-python",
   "name": "python",
   "nbconvert_exporter": "python",
   "pygments_lexer": "ipython3",
   "version": "3.10.4"
  }
 },
 "nbformat": 4,
 "nbformat_minor": 5
}
