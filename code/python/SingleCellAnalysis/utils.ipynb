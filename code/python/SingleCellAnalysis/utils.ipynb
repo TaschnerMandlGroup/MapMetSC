{
 "cells": [
  {
   "cell_type": "code",
   "execution_count": 3,
   "metadata": {},
   "outputs": [],
   "source": [
    "import os\n",
    "import pandas as pd\n",
    "import numpy as np\n",
    "import glob\n",
    "import random\n",
    "import shutil\n",
    "\n",
    "path = '/data_isilon_main/isilon_images/10_MetaSystems/MetaSystemsData/Multimodal_Imaging_Daria/PIPELINE/NEWEST_RESULTS'\n",
    "samples_per_cluster = pd.read_csv(os.path.join(path, 'results/metadata/image-per-cluster.csv'))\n",
    "\n",
    "samples_per_cluster = samples_per_cluster .drop(['Unnamed: 0'], axis=1)\n",
    "samples_per_cluster = samples_per_cluster.set_index('clusters')\n",
    "\n",
    "tissue = \"BM\"\n",
    "\n",
    "for i, row in samples_per_cluster.iterrows():\n",
    "    row = row[row.index.str.contains(tissue)]\n",
    "    max_sample = row.index[row.values==row.values.max()]\n",
    "\n",
    "    files = glob.glob(os.path.join(path + \"/masks/{}*.tif\".format(max_sample[0])))\n",
    "    file = random.choice(files).split(\"/\")[-1]\n",
    "    shutil.copy(os.path.join(path, 'masks', file), os.path.join(path, 'masks_temp', tissue, str(row.name) + '_clust_' + file))\n",
    "    shutil.copy(os.path.join(path, 'img', file), os.path.join(path, 'img_temp', tissue, str(row.name) + '_clust_' + file))\n",
    "\n"
   ]
  }
 ],
 "metadata": {
  "interpreter": {
   "hash": "3b68c0fad1d00f1c67724b5cafac64a1c19bc50ffb9ed66ce48fb737b1bcb5f2"
  },
  "kernelspec": {
   "display_name": "Python 3.9.15 ('mapmet_2': conda)",
   "language": "python",
   "name": "python3"
  },
  "language_info": {
   "codemirror_mode": {
    "name": "ipython",
    "version": 3
   },
   "file_extension": ".py",
   "mimetype": "text/x-python",
   "name": "python",
   "nbconvert_exporter": "python",
   "pygments_lexer": "ipython3",
   "version": "3.9.15"
  },
  "orig_nbformat": 4
 },
 "nbformat": 4,
 "nbformat_minor": 2
}
