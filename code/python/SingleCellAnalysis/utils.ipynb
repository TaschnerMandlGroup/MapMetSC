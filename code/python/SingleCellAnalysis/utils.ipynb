{
 "cells": [
  {
   "cell_type": "code",
   "execution_count": 5,
   "metadata": {},
   "outputs": [
    {
     "ename": "KeyboardInterrupt",
     "evalue": "",
     "output_type": "error",
     "traceback": [
      "\u001b[0;31m---------------------------------------------------------------------------\u001b[0m",
      "\u001b[0;31mKeyboardInterrupt\u001b[0m                         Traceback (most recent call last)",
      "Cell \u001b[0;32mIn[5], line 20\u001b[0m\n\u001b[1;32m     18\u001b[0m file \u001b[38;5;241m=\u001b[39m random\u001b[38;5;241m.\u001b[39mchoice(files)\u001b[38;5;241m.\u001b[39msplit(\u001b[38;5;124m\"\u001b[39m\u001b[38;5;124m/\u001b[39m\u001b[38;5;124m\"\u001b[39m)[\u001b[38;5;241m-\u001b[39m\u001b[38;5;241m1\u001b[39m]\n\u001b[1;32m     19\u001b[0m shutil\u001b[38;5;241m.\u001b[39mcopy(os\u001b[38;5;241m.\u001b[39mpath\u001b[38;5;241m.\u001b[39mjoin(path, \u001b[38;5;124m'\u001b[39m\u001b[38;5;124mmasks\u001b[39m\u001b[38;5;124m'\u001b[39m, file), os\u001b[38;5;241m.\u001b[39mpath\u001b[38;5;241m.\u001b[39mjoin(path, \u001b[38;5;124m'\u001b[39m\u001b[38;5;124mmasks_temp\u001b[39m\u001b[38;5;124m'\u001b[39m, \u001b[38;5;28mstr\u001b[39m(row\u001b[38;5;241m.\u001b[39mname) \u001b[38;5;241m+\u001b[39m \u001b[38;5;124m'\u001b[39m\u001b[38;5;124m_\u001b[39m\u001b[38;5;124m'\u001b[39m \u001b[38;5;241m+\u001b[39m file))\n\u001b[0;32m---> 20\u001b[0m \u001b[43mshutil\u001b[49m\u001b[38;5;241;43m.\u001b[39;49m\u001b[43mcopy\u001b[49m\u001b[43m(\u001b[49m\u001b[43mos\u001b[49m\u001b[38;5;241;43m.\u001b[39;49m\u001b[43mpath\u001b[49m\u001b[38;5;241;43m.\u001b[39;49m\u001b[43mjoin\u001b[49m\u001b[43m(\u001b[49m\u001b[43mpath\u001b[49m\u001b[43m,\u001b[49m\u001b[43m \u001b[49m\u001b[38;5;124;43m'\u001b[39;49m\u001b[38;5;124;43mimg\u001b[39;49m\u001b[38;5;124;43m'\u001b[39;49m\u001b[43m,\u001b[49m\u001b[43m \u001b[49m\u001b[43mfile\u001b[49m\u001b[43m)\u001b[49m\u001b[43m,\u001b[49m\u001b[43m \u001b[49m\u001b[43mos\u001b[49m\u001b[38;5;241;43m.\u001b[39;49m\u001b[43mpath\u001b[49m\u001b[38;5;241;43m.\u001b[39;49m\u001b[43mjoin\u001b[49m\u001b[43m(\u001b[49m\u001b[43mpath\u001b[49m\u001b[43m,\u001b[49m\u001b[43m \u001b[49m\u001b[38;5;124;43m'\u001b[39;49m\u001b[38;5;124;43mimg_temp\u001b[39;49m\u001b[38;5;124;43m'\u001b[39;49m\u001b[43m,\u001b[49m\u001b[43m \u001b[49m\u001b[38;5;28;43mstr\u001b[39;49m\u001b[43m(\u001b[49m\u001b[43mrow\u001b[49m\u001b[38;5;241;43m.\u001b[39;49m\u001b[43mname\u001b[49m\u001b[43m)\u001b[49m\u001b[43m \u001b[49m\u001b[38;5;241;43m+\u001b[39;49m\u001b[43m \u001b[49m\u001b[38;5;124;43m'\u001b[39;49m\u001b[38;5;124;43m_\u001b[39;49m\u001b[38;5;124;43m'\u001b[39;49m\u001b[43m \u001b[49m\u001b[38;5;241;43m+\u001b[39;49m\u001b[43m \u001b[49m\u001b[43mfile\u001b[49m\u001b[43m)\u001b[49m\u001b[43m)\u001b[49m\n",
      "File \u001b[0;32m~/mambaforge/envs/mapmet_2/lib/python3.9/shutil.py:427\u001b[0m, in \u001b[0;36mcopy\u001b[0;34m(src, dst, follow_symlinks)\u001b[0m\n\u001b[1;32m    <a href='file:///home/daria_l/mambaforge/envs/mapmet_2/lib/python3.9/shutil.py?line=424'>425</a>\u001b[0m \u001b[39mif\u001b[39;00m os\u001b[39m.\u001b[39mpath\u001b[39m.\u001b[39misdir(dst):\n\u001b[1;32m    <a href='file:///home/daria_l/mambaforge/envs/mapmet_2/lib/python3.9/shutil.py?line=425'>426</a>\u001b[0m     dst \u001b[39m=\u001b[39m os\u001b[39m.\u001b[39mpath\u001b[39m.\u001b[39mjoin(dst, os\u001b[39m.\u001b[39mpath\u001b[39m.\u001b[39mbasename(src))\n\u001b[0;32m--> <a href='file:///home/daria_l/mambaforge/envs/mapmet_2/lib/python3.9/shutil.py?line=426'>427</a>\u001b[0m copyfile(src, dst, follow_symlinks\u001b[39m=\u001b[39;49mfollow_symlinks)\n\u001b[1;32m    <a href='file:///home/daria_l/mambaforge/envs/mapmet_2/lib/python3.9/shutil.py?line=427'>428</a>\u001b[0m copymode(src, dst, follow_symlinks\u001b[39m=\u001b[39mfollow_symlinks)\n\u001b[1;32m    <a href='file:///home/daria_l/mambaforge/envs/mapmet_2/lib/python3.9/shutil.py?line=428'>429</a>\u001b[0m \u001b[39mreturn\u001b[39;00m dst\n",
      "File \u001b[0;32m~/mambaforge/envs/mapmet_2/lib/python3.9/shutil.py:278\u001b[0m, in \u001b[0;36mcopyfile\u001b[0;34m(src, dst, follow_symlinks)\u001b[0m\n\u001b[1;32m    <a href='file:///home/daria_l/mambaforge/envs/mapmet_2/lib/python3.9/shutil.py?line=275'>276</a>\u001b[0m \u001b[39mtry\u001b[39;00m:\n\u001b[1;32m    <a href='file:///home/daria_l/mambaforge/envs/mapmet_2/lib/python3.9/shutil.py?line=276'>277</a>\u001b[0m     _fastcopy_sendfile(fsrc, fdst)\n\u001b[0;32m--> <a href='file:///home/daria_l/mambaforge/envs/mapmet_2/lib/python3.9/shutil.py?line=277'>278</a>\u001b[0m     \u001b[39mreturn\u001b[39;00m dst\n\u001b[1;32m    <a href='file:///home/daria_l/mambaforge/envs/mapmet_2/lib/python3.9/shutil.py?line=278'>279</a>\u001b[0m \u001b[39mexcept\u001b[39;00m _GiveupOnFastCopy:\n\u001b[1;32m    <a href='file:///home/daria_l/mambaforge/envs/mapmet_2/lib/python3.9/shutil.py?line=279'>280</a>\u001b[0m     \u001b[39mpass\u001b[39;00m\n",
      "\u001b[0;31mKeyboardInterrupt\u001b[0m: "
     ]
    }
   ],
   "source": [
    "import os\n",
    "import pandas as pd\n",
    "import numpy as np\n",
    "import glob\n",
    "import random\n",
    "import shutil\n",
    "\n",
    "path = '/data_isilon_main/isilon_images/10_MetaSystems/MetaSystemsData/Multimodal_Imaging_Daria/PIPELINE/NEWEST_RESULTS'\n",
    "samples_per_cluster = pd.read_csv(os.path.join(path, 'results/metadata/samples-per-celltype.csv'))\n",
    "\n",
    "samples_per_cluster = samples_per_cluster .drop(['Unnamed: 0'], axis=1)\n",
    "samples_per_cluster = samples_per_cluster.set_index('celltype')\n",
    "\n",
    "for i, row in samples_per_cluster.iterrows():\n",
    "    max_sample = row.index[row.values==row.values.max()]\n",
    "\n",
    "    files = glob.glob(os.path.join(path + \"/masks/{}*.tif\".format(max_sample[0])))\n",
    "    file = random.choice(files).split(\"/\")[-1]\n",
    "    shutil.copy(os.path.join(path, 'masks', file), os.path.join(path, 'masks_temp', str(row.name) + '_clust_' + file))\n",
    "    shutil.copy(os.path.join(path, 'img', file), os.path.join(path, 'img_temp', str(row.name) + '_clust_' + file))\n",
    "\n"
   ]
  }
 ],
 "metadata": {
  "interpreter": {
   "hash": "3b68c0fad1d00f1c67724b5cafac64a1c19bc50ffb9ed66ce48fb737b1bcb5f2"
  },
  "kernelspec": {
   "display_name": "Python 3.9.15 ('mapmet_2': conda)",
   "language": "python",
   "name": "python3"
  },
  "language_info": {
   "codemirror_mode": {
    "name": "ipython",
    "version": 3
   },
   "file_extension": ".py",
   "mimetype": "text/x-python",
   "name": "python",
   "nbconvert_exporter": "python",
   "pygments_lexer": "ipython3",
   "version": "3.9.15"
  },
  "orig_nbformat": 4
 },
 "nbformat": 4,
 "nbformat_minor": 2
}
