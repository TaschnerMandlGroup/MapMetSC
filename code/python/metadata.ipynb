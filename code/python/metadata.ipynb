{
 "cells": [
  {
   "cell_type": "code",
   "execution_count": 5,
   "metadata": {},
   "outputs": [],
   "source": [
    "import pandas as pd\n",
    "import os\n",
    "\n",
    "base_dir = \"/data_isilon_main/isilon_images/10_MetaSystems/MetaSystemsData/Multimodal_Imaging_Daria/_Evaluations/Metadata\"\n",
    "\n",
    "samples_metadata_file_1 = os.path.join(base_dir, \"Samples_1.xlsx\")\n",
    "samples_metadata_file_2 = os.path.join(base_dir, \"Samples_2.xlsx\")\n",
    "\n",
    "patients_metadata_file = os.path.join(base_dir, \"20211228_Sample_cohort_with_infiltration.xlsx\")\n",
    "aberrations_file = os.path.join(base_dir, \"20211213_Patient_Aberrations.xlsx\")\n",
    "clinical_data_file = os.path.join(base_dir, \"20211213_Patient_ClinicalData.xlsx\")"
   ]
  },
  {
   "cell_type": "markdown",
   "metadata": {},
   "source": []
  },
  {
   "cell_type": "code",
   "execution_count": 7,
   "metadata": {},
   "outputs": [],
   "source": [
    "#Load data \n",
    "samples_metadata_1 = pd.read_excel(samples_metadata_file_1)\n",
    "samples_metadata_2 = pd.read_excel(samples_metadata_file_2)\n",
    "\n",
    "samples_metadata = pd.concat([samples_metadata_1, samples_metadata_2]) # Make sure they have the same column names and remove evaluation scoring scheme\n",
    "samples_metadata['Position'] = [i for i in range(1, len(samples_metadata)+1)]\n",
    "\n",
    "patients_metadata = pd.read_excel(patients_metadata_file)\n",
    "aberrations_metadata = pd.read_excel(aberrations_file)\n",
    "clinical_metadata = pd.read_excel(clinical_data_file)\n",
    "\n",
    "#Only use the ones that worked\n",
    "samples_metadata = samples_metadata.drop(samples_metadata.index[samples_metadata['exclude'] == 'yes'])\n",
    "samples_metadata = samples_metadata.dropna(subset=['exclude'])\n",
    "\n",
    "#Load technical data and eliminate unncessecary information\n",
    "metadata = pd.DataFrame(columns = ['Sample', 'Puncture side', 'Staining date', 'Stainer', 'IMC date', 'IMC score', 'exclude'], \n",
    "    data=samples_metadata[['Slide ', 'Side [R/L]', 'Date of analysis', 'Staining done by', 'Date2', 'mean IMC score', 'exclude']].values)\n",
    "\n",
    "#Split into positive and negative samples - check whether clinical data and aberrations should also be determined for negative samples\n",
    "metadata_neg = metadata[metadata['Sample'].str.contains('N')]\n",
    "metadata = metadata.drop(metadata.index[metadata['Sample'].str.contains('N')])\n",
    "\n",
    "#Load patient data and infiltration - here REL is wrongly called RE2 in excel sheet\n",
    "metadata = metadata.reindex(columns=metadata.columns.tolist() +['Study ID', 'Infiltration right', 'Infiltration left', 'DE date', 'Timepoint'])\n",
    "\n",
    "for _i, s in enumerate(metadata['Sample']):\n",
    "    tmp = [i for i in ['DE', 'RE1', 'RE2', 'REL'] if patients_metadata['BM (' + i + ') ID'].str.contains(s).any()][0]\n",
    "\n",
    "    metadata.at[_i, 'Study ID'] = patients_metadata.loc[patients_metadata['BM (' + tmp + ') ID'].str.contains(s, na=False), 'ID'].values[0]\n",
    "    metadata.at[_i, 'Infiltration right'] =  patients_metadata.loc[patients_metadata['BM (' + tmp + ') ID'].str.contains(s, na=False), 'BM (' + tmp + ') DTCs (Right)'].values[0]\n",
    "    metadata.at[_i, 'Infiltration left'] =  patients_metadata.loc[patients_metadata['BM (' + tmp + ') ID'].str.contains(s, na=False), 'BM (' + tmp + ') DTCs (Left)'].values[0]\n",
    "    metadata.at[_i, 'DE date'] =  patients_metadata.loc[patients_metadata['BM (' + tmp + ') ID'].str.contains(s, na=False), 'DE_date'].values[0]\n",
    "    metadata.at[_i, 'Timepoint'] = tmp\n",
    "\n",
    "#Load aberrations - Following patients are missing in aberrations: AT-0060, AT-0100, AT-0130 (double value), AT-0131\n",
    "aberrations = ['MYCN amp.', 'ALK amp.', 'ALK mut.', 'ATRX del.', 'TERT rear.', '1p loss', '1q gain', '11q loss', '17q gain']\n",
    "\n",
    "aberrations_metadata['Patient ID'] = aberrations_metadata['Patient ID'].astype(\"string\")\n",
    "\n",
    "for a in aberrations: \n",
    "    metadata[a] = [aberrations_metadata.loc[aberrations_metadata['Patient ID'].str.contains(i, na=False), a].values[0] for i in metadata['Study ID']]\n",
    "\n",
    "#Load clinical data\n",
    "clinical_col = ['stage4', 'rez_dat', 'prog_dat', 'event_dat', 'tod_dat1', 'efs', 'tod', 'efs_dur', 'tod_dur', 'info']\n",
    "for c in clinical_col: \n",
    "    metadata[c] = [clinical_metadata.loc[clinical_metadata['uid'].str.contains(i, na=False), c].values[0] for i in metadata['Study ID']]\n",
    "\n",
    "#metadata['Study ID'] = [patients_metadata.loc[patients_metadata['BM (DE) ID'].str.contains(i) | patients_metadata['BM (RE1) ID'].str.contains(i) \n",
    "#    | patients_metadata['BM (RE2) ID'].str.contains(i) | patients_metadata['BM (REL) ID'].str.contains(i), 'ID'].values[0] for i in metadata['Study ID']]\n",
    "\n",
    "metadata.to_csv(os.path.join(base_dir, 'metadata.csv'))\n"
   ]
  }
 ],
 "metadata": {
  "interpreter": {
   "hash": "6dae562b5a607d4da14c63c5a17cab43f9fcac363604e011ccc2a97f318ecd7b"
  },
  "kernelspec": {
   "display_name": "Python 3.10.4 ('mapmet': conda)",
   "language": "python",
   "name": "python3"
  },
  "language_info": {
   "codemirror_mode": {
    "name": "ipython",
    "version": 3
   },
   "file_extension": ".py",
   "mimetype": "text/x-python",
   "name": "python",
   "nbconvert_exporter": "python",
   "pygments_lexer": "ipython3",
   "version": "3.10.4"
  },
  "orig_nbformat": 4
 },
 "nbformat": 4,
 "nbformat_minor": 2
}
