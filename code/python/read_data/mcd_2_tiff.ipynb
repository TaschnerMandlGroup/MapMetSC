{
 "cells": [
  {
   "cell_type": "code",
   "execution_count": 9,
   "metadata": {},
   "outputs": [
    {
     "name": "stderr",
     "output_type": "stream",
     "text": [
      "/home/daria_l/anaconda3/envs/mapmet/lib/python3.10/site-packages/xtiff/tiff.py:130: UserWarning: The specified OME-TIFF file name does not end with .ome.tiff: 20221011_15-1814_BM_MUW_ROI_005.tiff\n",
      "  warnings.warn(\n",
      "/home/daria_l/anaconda3/envs/mapmet/lib/python3.10/site-packages/xtiff/tiff.py:130: UserWarning: The specified OME-TIFF file name does not end with .ome.tiff: 20221011_15-1814_BM_MUW_ROI_006.tiff\n",
      "  warnings.warn(\n",
      "/home/daria_l/anaconda3/envs/mapmet/lib/python3.10/site-packages/xtiff/tiff.py:130: UserWarning: The specified OME-TIFF file name does not end with .ome.tiff: 20221011_15-1814_BM_MUW_LP0.tiff\n",
      "  warnings.warn(\n",
      "/home/daria_l/anaconda3/envs/mapmet/lib/python3.10/site-packages/xtiff/tiff.py:130: UserWarning: The specified OME-TIFF file name does not end with .ome.tiff: 20221011_15-1814_BM_MUW_LP1.tiff\n",
      "  warnings.warn(\n",
      "/home/daria_l/anaconda3/envs/mapmet/lib/python3.10/site-packages/xtiff/tiff.py:130: UserWarning: The specified OME-TIFF file name does not end with .ome.tiff: 20221011_15-1814_BM_MUW_LP2.tiff\n",
      "  warnings.warn(\n",
      "/home/daria_l/anaconda3/envs/mapmet/lib/python3.10/site-packages/xtiff/tiff.py:130: UserWarning: The specified OME-TIFF file name does not end with .ome.tiff: 20221011_15-1814_BM_MUW_LP3.tiff\n",
      "  warnings.warn(\n",
      "/home/daria_l/anaconda3/envs/mapmet/lib/python3.10/site-packages/xtiff/tiff.py:130: UserWarning: The specified OME-TIFF file name does not end with .ome.tiff: 20221011_15-1814_BM_MUW_LP4.tiff\n",
      "  warnings.warn(\n",
      "/home/daria_l/anaconda3/envs/mapmet/lib/python3.10/site-packages/xtiff/tiff.py:130: UserWarning: The specified OME-TIFF file name does not end with .ome.tiff: 20221011_15-1814_BM_MUW_LP5.tiff\n",
      "  warnings.warn(\n",
      "/home/daria_l/anaconda3/envs/mapmet/lib/python3.10/site-packages/xtiff/tiff.py:130: UserWarning: The specified OME-TIFF file name does not end with .ome.tiff: 20221011_15-1814_BM_MUW_LPall.tiff\n",
      "  warnings.warn(\n",
      "/home/daria_l/anaconda3/envs/mapmet/lib/python3.10/site-packages/xtiff/tiff.py:130: UserWarning: The specified OME-TIFF file name does not end with .ome.tiff: 20221011_15-1814_BM_MUW_ROI_012.tiff\n",
      "  warnings.warn(\n",
      "/home/daria_l/anaconda3/envs/mapmet/lib/python3.10/site-packages/xtiff/tiff.py:130: UserWarning: The specified OME-TIFF file name does not end with .ome.tiff: 20221011_15-1814_BM_MUW_ROI_013.tiff\n",
      "  warnings.warn(\n",
      "/home/daria_l/anaconda3/envs/mapmet/lib/python3.10/site-packages/xtiff/tiff.py:130: UserWarning: The specified OME-TIFF file name does not end with .ome.tiff: 20221011_15-1814_BM_MUW_ROI_012 - split.tiff\n",
      "  warnings.warn(\n"
     ]
    }
   ],
   "source": [
    "import re\n",
    "import os\n",
    "from readimc import MCDFile\n",
    "from xtiff import to_tiff\n",
    "\n",
    "base_path = \"/data_isilon_main/isilon_images/10_MetaSystems/MetaSystemsData/Multimodal_Imaging_Daria/_Other_samples/Meduni\"\n",
    "file_name = \"20221011_15-1814_BM_MUW\"\n",
    "\n",
    "def _rmlead(inp, char='0'):\n",
    "    for idx, letter in enumerate(inp):\n",
    "        if letter != char:\n",
    "            return inp[idx:]\n",
    "\n",
    "with MCDFile(os.path.join(base_path, file_name + '.mcd')) as f:\n",
    "\n",
    "            for acq in f.slides[0].acquisitions:\n",
    "                try:\n",
    "                    img = f.read_acquisition(acq)\n",
    "                except:\n",
    "                    continue\n",
    "                roi_name = acq.description\n",
    "                marker = acq.channel_labels\n",
    "                imc_imgs = img\n",
    "\n",
    "                to_tiff(\n",
    "                    imc_imgs,\n",
    "                    os.path.join(base_path, file_name + '_' + roi_name + '.tiff'),\n",
    "                    image_name=file_name + '.tiff',\n",
    "                    channel_names=marker,\n",
    "                    pixel_size=1.0,\n",
    "                    pixel_depth=1.0,\n",
    "                    )\n"
   ]
  }
 ],
 "metadata": {
  "interpreter": {
   "hash": "6dae562b5a607d4da14c63c5a17cab43f9fcac363604e011ccc2a97f318ecd7b"
  },
  "kernelspec": {
   "display_name": "Python 3.10.4 ('mapmet': conda)",
   "language": "python",
   "name": "python3"
  },
  "language_info": {
   "codemirror_mode": {
    "name": "ipython",
    "version": 3
   },
   "file_extension": ".py",
   "mimetype": "text/x-python",
   "name": "python",
   "nbconvert_exporter": "python",
   "pygments_lexer": "ipython3",
   "version": "3.10.4"
  },
  "orig_nbformat": 4
 },
 "nbformat": 4,
 "nbformat_minor": 2
}
