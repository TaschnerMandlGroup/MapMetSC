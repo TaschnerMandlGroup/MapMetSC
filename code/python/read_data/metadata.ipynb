{
 "cells": [
  {
   "cell_type": "code",
   "execution_count": null,
   "metadata": {},
   "outputs": [],
   "source": [
    "import pandas as pd\n",
    "import os\n",
    "import numpy as np\n",
    "import shutil\n",
    "import glob\n",
    "base_dir = \"/data_isilon_main/isilon_images/10_MetaSystems/MetaSystemsData/Multimodal_Imaging_Daria/PIPELINE/metadata\"\n",
    "\n",
    "\n",
    "BM_metadata_file_1 = os.path.join(base_dir, \"01_Box_Evaluation_BM.xlsx\")\n",
    "BM_metadata_file_2 = os.path.join(base_dir, \"02_Box_Evaluation_BM.xlsx\")\n",
    "PT_metadata_file = os.path.join(base_dir, \"03_Box_Evaluation_PT.xlsx\")\n",
    "\n",
    "patients_metadata_file = os.path.join(base_dir, \"20221013_Sample_cohort_with_infiltration.xlsx\")\n",
    "aberrations_file = os.path.join(base_dir, \"20230530_Patient_Aberrations.xlsx\")\n",
    "clinical_data_file = os.path.join(base_dir, \"20231127_Patient_Clinical_Data.xlsx\")"
   ]
  },
  {
   "cell_type": "markdown",
   "metadata": {},
   "source": []
  },
  {
   "cell_type": "code",
   "execution_count": 9,
   "metadata": {},
   "outputs": [
    {
     "name": "stderr",
     "output_type": "stream",
     "text": [
      "/home/daria_l/anaconda3/envs/mapmet/lib/python3.10/site-packages/openpyxl/worksheet/header_footer.py:48: UserWarning: Cannot parse header or footer so it will be ignored\n",
      "  warn(\"\"\"Cannot parse header or footer so it will be ignored\"\"\")\n"
     ]
    },
    {
     "ename": "IndexError",
     "evalue": "index 0 is out of bounds for axis 0 with size 0",
     "output_type": "error",
     "traceback": [
      "\u001b[0;31m---------------------------------------------------------------------------\u001b[0m",
      "\u001b[0;31mIndexError\u001b[0m                                Traceback (most recent call last)",
      "Cell \u001b[0;32mIn[9], line 73\u001b[0m\n\u001b[1;32m     71\u001b[0m clinical_col \u001b[38;5;241m=\u001b[39m [\u001b[38;5;124m'\u001b[39m\u001b[38;5;124mstage4\u001b[39m\u001b[38;5;124m'\u001b[39m, \u001b[38;5;124m'\u001b[39m\u001b[38;5;124mrez_dat\u001b[39m\u001b[38;5;124m'\u001b[39m, \u001b[38;5;124m'\u001b[39m\u001b[38;5;124mprog_dat\u001b[39m\u001b[38;5;124m'\u001b[39m, \u001b[38;5;124m'\u001b[39m\u001b[38;5;124mevent_dat\u001b[39m\u001b[38;5;124m'\u001b[39m, \u001b[38;5;124m'\u001b[39m\u001b[38;5;124mtod_dat1\u001b[39m\u001b[38;5;124m'\u001b[39m, \u001b[38;5;124m'\u001b[39m\u001b[38;5;124mefs\u001b[39m\u001b[38;5;124m'\u001b[39m, \u001b[38;5;124m'\u001b[39m\u001b[38;5;124mtod\u001b[39m\u001b[38;5;124m'\u001b[39m, \u001b[38;5;124m'\u001b[39m\u001b[38;5;124mefs_dur\u001b[39m\u001b[38;5;124m'\u001b[39m, \u001b[38;5;124m'\u001b[39m\u001b[38;5;124mtod_dur\u001b[39m\u001b[38;5;124m'\u001b[39m, \u001b[38;5;124m'\u001b[39m\u001b[38;5;124mage_at_diag\u001b[39m\u001b[38;5;124m'\u001b[39m, \u001b[38;5;124m'\u001b[39m\u001b[38;5;124mtherapy\u001b[39m\u001b[38;5;124m'\u001b[39m]\n\u001b[1;32m     72\u001b[0m \u001b[38;5;28;01mfor\u001b[39;00m c \u001b[38;5;129;01min\u001b[39;00m clinical_col: \n\u001b[0;32m---> 73\u001b[0m     metadata[c] \u001b[38;5;241m=\u001b[39m [clinical_metadata\u001b[38;5;241m.\u001b[39mloc[clinical_metadata[\u001b[38;5;124m'\u001b[39m\u001b[38;5;124muid\u001b[39m\u001b[38;5;124m'\u001b[39m]\u001b[38;5;241m.\u001b[39mstr\u001b[38;5;241m.\u001b[39mcontains(s, na\u001b[38;5;241m=\u001b[39m\u001b[38;5;28;01mFalse\u001b[39;00m), c]\u001b[38;5;241m.\u001b[39mvalues[\u001b[38;5;241m0\u001b[39m] \u001b[38;5;28;01mif\u001b[39;00m metadata\u001b[38;5;241m.\u001b[39mloc[_i, \u001b[38;5;124m'\u001b[39m\u001b[38;5;124mcontrol\u001b[39m\u001b[38;5;124m'\u001b[39m]\u001b[38;5;241m==\u001b[39m\u001b[38;5;124m'\u001b[39m\u001b[38;5;124mno\u001b[39m\u001b[38;5;124m'\u001b[39m \u001b[38;5;28;01melse\u001b[39;00m \u001b[38;5;124m'\u001b[39m\u001b[38;5;124mNA\u001b[39m\u001b[38;5;124m'\u001b[39m \u001b[38;5;28;01mfor\u001b[39;00m _i, s \u001b[38;5;129;01min\u001b[39;00m \u001b[38;5;28menumerate\u001b[39m(metadata[\u001b[38;5;124m'\u001b[39m\u001b[38;5;124mStudy_ID\u001b[39m\u001b[38;5;124m'\u001b[39m])]\n\u001b[1;32m     75\u001b[0m \u001b[38;5;66;03m#Replace NA by empty cells\"\u001b[39;00m\n\u001b[1;32m     76\u001b[0m metadata\u001b[38;5;241m.\u001b[39mreplace(\u001b[38;5;124m'\u001b[39m\u001b[38;5;124mNA\u001b[39m\u001b[38;5;124m'\u001b[39m, np\u001b[38;5;241m.\u001b[39mnan, inplace\u001b[38;5;241m=\u001b[39m\u001b[38;5;28;01mTrue\u001b[39;00m)\n",
      "Cell \u001b[0;32mIn[9], line 73\u001b[0m, in \u001b[0;36m<listcomp>\u001b[0;34m(.0)\u001b[0m\n\u001b[1;32m     71\u001b[0m clinical_col \u001b[38;5;241m=\u001b[39m [\u001b[38;5;124m'\u001b[39m\u001b[38;5;124mstage4\u001b[39m\u001b[38;5;124m'\u001b[39m, \u001b[38;5;124m'\u001b[39m\u001b[38;5;124mrez_dat\u001b[39m\u001b[38;5;124m'\u001b[39m, \u001b[38;5;124m'\u001b[39m\u001b[38;5;124mprog_dat\u001b[39m\u001b[38;5;124m'\u001b[39m, \u001b[38;5;124m'\u001b[39m\u001b[38;5;124mevent_dat\u001b[39m\u001b[38;5;124m'\u001b[39m, \u001b[38;5;124m'\u001b[39m\u001b[38;5;124mtod_dat1\u001b[39m\u001b[38;5;124m'\u001b[39m, \u001b[38;5;124m'\u001b[39m\u001b[38;5;124mefs\u001b[39m\u001b[38;5;124m'\u001b[39m, \u001b[38;5;124m'\u001b[39m\u001b[38;5;124mtod\u001b[39m\u001b[38;5;124m'\u001b[39m, \u001b[38;5;124m'\u001b[39m\u001b[38;5;124mefs_dur\u001b[39m\u001b[38;5;124m'\u001b[39m, \u001b[38;5;124m'\u001b[39m\u001b[38;5;124mtod_dur\u001b[39m\u001b[38;5;124m'\u001b[39m, \u001b[38;5;124m'\u001b[39m\u001b[38;5;124mage_at_diag\u001b[39m\u001b[38;5;124m'\u001b[39m, \u001b[38;5;124m'\u001b[39m\u001b[38;5;124mtherapy\u001b[39m\u001b[38;5;124m'\u001b[39m]\n\u001b[1;32m     72\u001b[0m \u001b[38;5;28;01mfor\u001b[39;00m c \u001b[38;5;129;01min\u001b[39;00m clinical_col: \n\u001b[0;32m---> 73\u001b[0m     metadata[c] \u001b[38;5;241m=\u001b[39m [\u001b[43mclinical_metadata\u001b[49m\u001b[38;5;241;43m.\u001b[39;49m\u001b[43mloc\u001b[49m\u001b[43m[\u001b[49m\u001b[43mclinical_metadata\u001b[49m\u001b[43m[\u001b[49m\u001b[38;5;124;43m'\u001b[39;49m\u001b[38;5;124;43muid\u001b[39;49m\u001b[38;5;124;43m'\u001b[39;49m\u001b[43m]\u001b[49m\u001b[38;5;241;43m.\u001b[39;49m\u001b[43mstr\u001b[49m\u001b[38;5;241;43m.\u001b[39;49m\u001b[43mcontains\u001b[49m\u001b[43m(\u001b[49m\u001b[43ms\u001b[49m\u001b[43m,\u001b[49m\u001b[43m \u001b[49m\u001b[43mna\u001b[49m\u001b[38;5;241;43m=\u001b[39;49m\u001b[38;5;28;43;01mFalse\u001b[39;49;00m\u001b[43m)\u001b[49m\u001b[43m,\u001b[49m\u001b[43m \u001b[49m\u001b[43mc\u001b[49m\u001b[43m]\u001b[49m\u001b[38;5;241;43m.\u001b[39;49m\u001b[43mvalues\u001b[49m\u001b[43m[\u001b[49m\u001b[38;5;241;43m0\u001b[39;49m\u001b[43m]\u001b[49m \u001b[38;5;28;01mif\u001b[39;00m metadata\u001b[38;5;241m.\u001b[39mloc[_i, \u001b[38;5;124m'\u001b[39m\u001b[38;5;124mcontrol\u001b[39m\u001b[38;5;124m'\u001b[39m]\u001b[38;5;241m==\u001b[39m\u001b[38;5;124m'\u001b[39m\u001b[38;5;124mno\u001b[39m\u001b[38;5;124m'\u001b[39m \u001b[38;5;28;01melse\u001b[39;00m \u001b[38;5;124m'\u001b[39m\u001b[38;5;124mNA\u001b[39m\u001b[38;5;124m'\u001b[39m \u001b[38;5;28;01mfor\u001b[39;00m _i, s \u001b[38;5;129;01min\u001b[39;00m \u001b[38;5;28menumerate\u001b[39m(metadata[\u001b[38;5;124m'\u001b[39m\u001b[38;5;124mStudy_ID\u001b[39m\u001b[38;5;124m'\u001b[39m])]\n\u001b[1;32m     75\u001b[0m \u001b[38;5;66;03m#Replace NA by empty cells\"\u001b[39;00m\n\u001b[1;32m     76\u001b[0m metadata\u001b[38;5;241m.\u001b[39mreplace(\u001b[38;5;124m'\u001b[39m\u001b[38;5;124mNA\u001b[39m\u001b[38;5;124m'\u001b[39m, np\u001b[38;5;241m.\u001b[39mnan, inplace\u001b[38;5;241m=\u001b[39m\u001b[38;5;28;01mTrue\u001b[39;00m)\n",
      "\u001b[0;31mIndexError\u001b[0m: index 0 is out of bounds for axis 0 with size 0"
     ]
    }
   ],
   "source": [
    "#Load data \n",
    "BM_metadata_1 = pd.read_excel(BM_metadata_file_1)\n",
    "BM_metadata_1 ['Tissue'] = ['BM' for i in range(len(BM_metadata_1))]\n",
    "BM_metadata_2 = pd.read_excel(BM_metadata_file_2)\n",
    "BM_metadata_2 ['Tissue'] = ['BM' for i in range(len(BM_metadata_2))]\n",
    "PT_metadata = pd.read_excel(PT_metadata_file)\n",
    "PT_metadata ['Tissue'] = ['PT' for i in range(len(PT_metadata))]\n",
    "\n",
    "#Load technical data and eliminate unncessecary information\n",
    "relevant_data = ['Slide', 'Side [R/L]', 'Date of analysis', 'Staining done by', 'Date2', 'mean IMC score', 'exclude', 'Tissue']\n",
    "eval_metadata = pd.DataFrame(columns = ['Sample', 'Puncture_side', 'Staining_date', 'Stainer', 'IMC_date', 'IMC_score', 'exclude', 'Tissue'], \n",
    "    data=pd.concat([BM_metadata_1[relevant_data], BM_metadata_2[relevant_data], PT_metadata[relevant_data]], ignore_index=True).values)\n",
    "\n",
    "#Only use the ones that worked\n",
    "eval_metadata = eval_metadata.drop(eval_metadata.index[eval_metadata['exclude'] == 'yes'])\n",
    "#samples_metadata = samples_metadata.dropna(subset=['exclude']) #also include samples not yet ablated\n",
    "eval_metadata = eval_metadata.dropna(subset=['Sample']) #exclude empty slots\n",
    "eval_metadata.reset_index(drop=True, inplace=True) #reindex after droping otherwise indices are missing\n",
    "\n",
    "#Split into positive and negative samples - check whether clinical data and aberrations should also be determined for negative samples\n",
    "#eval_metadata_neg = eval_metadata[eval_metadata['Sample'].str.contains('N', na=False)]\n",
    "#eval_metadata = eval_metadata.drop(eval_metadata.index[eval_metadata['Sample'].str.contains('N', na=False)])\n",
    "#eval_metadata.reset_index(drop=True, inplace=True)\n",
    "eval_metadata['control'] = ['yes' if 'N' in i else 'no' for i in eval_metadata['Sample']]\n",
    "eval_metadata['Sample'] = [i.split(' (')[0] if i is not np.nan else i for i in eval_metadata['Sample']]\n",
    "\n",
    "\n",
    "#Load patient data and infiltration\n",
    "patients_metadata = pd.read_excel(patients_metadata_file)\n",
    "aberrations_metadata = pd.read_excel(aberrations_file)\n",
    "clinical_metadata = pd.read_excel(clinical_data_file)\n",
    "\n",
    "metadata = eval_metadata.reindex(columns=eval_metadata.columns.tolist() +['Study_ID', 'Infiltration_right', 'Infiltration_left', 'DE_date', 'Timepoint'])\n",
    "\n",
    "for _i, s in enumerate(metadata['Sample']):\n",
    "\n",
    "    if metadata['Tissue'][_i] == 'PT':\n",
    "        metadata.at[_i, 'Study_ID'] = patients_metadata.loc[patients_metadata['TU (DE) ID/Biobank position'].str.contains(s, na=False), 'ID'].values[0]\n",
    "        metadata.at[_i, 'Infiltration_right'] =  'NA'\n",
    "        metadata.at[_i, 'Infiltration_left'] =  'NA'\n",
    "        metadata.at[_i, 'DE_date'] =  patients_metadata.loc[patients_metadata['TU (DE) ID/Biobank position'].str.contains(s, na=False), 'DE_date'].values[0]\n",
    "        metadata.at[_i, 'Timepoint'] = 'DE'\n",
    "\n",
    "    else:\n",
    "        tmp = [i for i in ['DE', 'RE1', 'RE2', 'REL'] if patients_metadata['BM (' + i + ') ID'].str.contains(s).any()]\n",
    "\n",
    "        if tmp == []: \n",
    "            continue\n",
    "        else:\n",
    "            tmp = tmp[0]\n",
    "\n",
    "        metadata.at[_i, 'Study_ID'] = patients_metadata.loc[patients_metadata['BM (' + tmp + ') ID'].str.contains(s, na=False), 'ID'].values[0]\n",
    "        metadata.at[_i, 'Infiltration_right'] =  patients_metadata.loc[patients_metadata['BM (' + tmp + ') ID'].str.contains(s, na=False), 'BM (' + tmp + ') DTCs (Right)'].values[0]\n",
    "        metadata.at[_i, 'Infiltration_left'] =  patients_metadata.loc[patients_metadata['BM (' + tmp + ') ID'].str.contains(s, na=False), 'BM (' + tmp + ') DTCs (Left)'].values[0]\n",
    "        metadata.at[_i, 'DE_date'] =  patients_metadata.loc[patients_metadata['BM (' + tmp + ') ID'].str.contains(s, na=False), 'DE_date'].values[0]\n",
    "        metadata.at[_i, 'Timepoint'] = tmp\n",
    "\n",
    "#Load aberrations - Following patients are missing in aberrations: AT-0060, AT-0100, AT-0130 (double value), AT-0131\n",
    "aberrations = ['MYCN amp.', 'ALK amp.', 'ALK mut.', 'ATRX del.', 'TERT rear.', '1p loss', '1q gain', '11q loss', '17q gain']\n",
    "\n",
    "aberrations_metadata['Patient ID'] = aberrations_metadata['Patient ID'].astype(\"string\")\n",
    "metadata['Study_ID'] = metadata['Study_ID'].astype(\"string\")\n",
    "\n",
    "for a in aberrations: \n",
    "    metadata[a] = [aberrations_metadata.loc[aberrations_metadata['Patient ID'].str.contains(s, na=False), a].values[0] if metadata.loc[_i, 'control']=='no' else 'NA' for _i, s in enumerate(metadata['Study_ID'])] \n",
    "\n",
    "metadata.rename(columns = {'MYCN amp.':'MYCN_amp', 'ALK amp.':'ALK_amp', 'ALK mut.':'ALK_mut', 'ATRX del.':'ATRX_del', 'TERT rear.':'TERT_rear', \n",
    "    '1p loss':'X1p_loss', '1q gain':'X1q_gain', '11q loss':'X11q_loss', '17q gain':'X17q_gain'}, inplace = True)\n",
    "\n",
    "#Load clinical data\n",
    "clinical_col = ['stage4', 'rez_dat', 'prog_dat', 'event_dat', 'tod_dat1', 'efs', 'tod', 'efs_dur', 'tod_dur', 'age_at_diag', 'therapy']\n",
    "for c in clinical_col: \n",
    "    metadata[c] = [clinical_metadata.loc[clinical_metadata['uid'].str.contains(s, na=False), c].values[0] if metadata.loc[_i, 'control']=='no' else 'NA' for _i, s in enumerate(metadata['Study_ID'])]\n",
    "\n",
    "#Replace NA by empty cells\"\n",
    "metadata.replace('NA', np.nan, inplace=True)\n",
    "metadata.replace('.', np.nan, inplace=True)\n",
    "\n",
    "metadata.to_csv(os.path.join(base_dir, '20231127_metadata_complete.csv'))\n"
   ]
  }
 ],
 "metadata": {
  "interpreter": {
   "hash": "6dae562b5a607d4da14c63c5a17cab43f9fcac363604e011ccc2a97f318ecd7b"
  },
  "kernelspec": {
   "display_name": "Python 3.10.4 ('mapmet': conda)",
   "language": "python",
   "name": "python3"
  },
  "language_info": {
   "codemirror_mode": {
    "name": "ipython",
    "version": 3
   },
   "file_extension": ".py",
   "mimetype": "text/x-python",
   "name": "python",
   "nbconvert_exporter": "python",
   "pygments_lexer": "ipython3",
   "version": "3.10.11"
  },
  "orig_nbformat": 4
 },
 "nbformat": 4,
 "nbformat_minor": 2
}
