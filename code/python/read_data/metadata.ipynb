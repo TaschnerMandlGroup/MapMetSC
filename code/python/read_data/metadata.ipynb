{
 "cells": [
  {
   "cell_type": "code",
   "execution_count": 9,
   "metadata": {},
   "outputs": [],
   "source": [
    "import pandas as pd\n",
    "import os\n",
    "import numpy as np\n",
    "import shutil\n",
    "import glob\n",
    "base_dir = \"/data_isilon_main/isilon_images/10_MetaSystems/MetaSystemsData/Multimodal_Imaging_Daria/PIPELINE/metadata\"\n",
    "\n",
    "\n",
    "BM_metadata_file_1 = os.path.join(base_dir, \"01_Box_Evaluation_BM.xlsx\")\n",
    "BM_metadata_file_2 = os.path.join(base_dir, \"02_Box_Evaluation_BM.xlsx\")\n",
    "PT_metadata_file = os.path.join(base_dir, \"03_Box_Evaluation_PT.xlsx\")\n",
    "\n",
    "patients_metadata_file = os.path.join(base_dir, \"20221013_Sample_cohort_with_infiltration.xlsx\")\n",
    "aberrations_file = os.path.join(base_dir, \"202231128_Patient_Aberrations.xlsx\")\n",
    "clinical_data_file = os.path.join(base_dir, \"20231127_Patient_Clinical_Data.xlsx\")"
   ]
  },
  {
   "cell_type": "markdown",
   "metadata": {},
   "source": []
  },
  {
   "cell_type": "code",
   "execution_count": 10,
   "metadata": {},
   "outputs": [
    {
     "name": "stderr",
     "output_type": "stream",
     "text": [
      "/home/daria_l/anaconda3/envs/mapmet/lib/python3.10/site-packages/openpyxl/worksheet/header_footer.py:48: UserWarning: Cannot parse header or footer so it will be ignored\n",
      "  warn(\"\"\"Cannot parse header or footer so it will be ignored\"\"\")\n"
     ]
    }
   ],
   "source": [
    "#Load data \n",
    "BM_metadata_1 = pd.read_excel(BM_metadata_file_1)\n",
    "BM_metadata_1 ['Tissue'] = ['BM' for i in range(len(BM_metadata_1))]\n",
    "BM_metadata_2 = pd.read_excel(BM_metadata_file_2)\n",
    "BM_metadata_2 ['Tissue'] = ['BM' for i in range(len(BM_metadata_2))]\n",
    "PT_metadata = pd.read_excel(PT_metadata_file)\n",
    "PT_metadata ['Tissue'] = ['PT' for i in range(len(PT_metadata))]\n",
    "\n",
    "#Load technical data and eliminate unncessecary information\n",
    "relevant_data = ['Slide', 'Side [R/L]', 'Date of analysis', 'Staining done by', 'Date2', 'mean IMC score', 'exclude', 'Tissue']\n",
    "eval_metadata = pd.DataFrame(columns = ['Sample', 'Puncture_side', 'Staining_date', 'Stainer', 'IMC_date', 'IMC_score', 'exclude', 'Tissue'], \n",
    "    data=pd.concat([BM_metadata_1[relevant_data], BM_metadata_2[relevant_data], PT_metadata[relevant_data]], ignore_index=True).values)\n",
    "\n",
    "#Only use the ones that worked\n",
    "eval_metadata = eval_metadata.drop(eval_metadata.index[eval_metadata['exclude'] == 'yes'])\n",
    "#samples_metadata = samples_metadata.dropna(subset=['exclude']) #also include samples not yet ablated\n",
    "eval_metadata = eval_metadata.dropna(subset=['Sample']) #exclude empty slots\n",
    "eval_metadata.reset_index(drop=True, inplace=True) #reindex after droping otherwise indices are missing\n",
    "\n",
    "#Split into positive and negative samples - check whether clinical data and aberrations should also be determined for negative samples\n",
    "#eval_metadata_neg = eval_metadata[eval_metadata['Sample'].str.contains('N', na=False)]\n",
    "#eval_metadata = eval_metadata.drop(eval_metadata.index[eval_metadata['Sample'].str.contains('N', na=False)])\n",
    "#eval_metadata.reset_index(drop=True, inplace=True)\n",
    "eval_metadata['control'] = ['yes' if 'N' in i else 'no' for i in eval_metadata['Sample']]\n",
    "eval_metadata['Sample'] = [i.split(' (')[0] if i is not np.nan else i for i in eval_metadata['Sample']]\n",
    "\n",
    "\n",
    "#Load patient data and infiltration\n",
    "patients_metadata = pd.read_excel(patients_metadata_file)\n",
    "aberrations_metadata = pd.read_excel(aberrations_file)\n",
    "clinical_metadata = pd.read_excel(clinical_data_file)\n",
    "\n",
    "metadata = eval_metadata.reindex(columns=eval_metadata.columns.tolist() +['Study_ID', 'Infiltration_right', 'Infiltration_left', 'DE_date', 'Timepoint'])\n",
    "\n",
    "for _i, s in enumerate(metadata['Sample']):\n",
    "\n",
    "    if metadata['Tissue'][_i] == 'PT':\n",
    "        metadata.at[_i, 'Study_ID'] = patients_metadata.loc[patients_metadata['TU (DE) ID/Biobank position'].str.contains(s, na=False), 'ID'].values[0]\n",
    "        metadata.at[_i, 'Infiltration_right'] =  'NA'\n",
    "        metadata.at[_i, 'Infiltration_left'] =  'NA'\n",
    "        metadata.at[_i, 'DE_date'] =  patients_metadata.loc[patients_metadata['TU (DE) ID/Biobank position'].str.contains(s, na=False), 'DE_date'].values[0]\n",
    "        metadata.at[_i, 'Timepoint'] = 'DE'\n",
    "\n",
    "    else:\n",
    "        tmp = [i for i in ['DE', 'RE1', 'RE2', 'REL'] if patients_metadata['BM (' + i + ') ID'].str.contains(s).any()]\n",
    "\n",
    "        if tmp == []: \n",
    "            continue\n",
    "        else:\n",
    "            tmp = tmp[0]\n",
    "\n",
    "        metadata.at[_i, 'Study_ID'] = patients_metadata.loc[patients_metadata['BM (' + tmp + ') ID'].str.contains(s, na=False), 'ID'].values[0]\n",
    "        metadata.at[_i, 'Infiltration_right'] =  patients_metadata.loc[patients_metadata['BM (' + tmp + ') ID'].str.contains(s, na=False), 'BM (' + tmp + ') DTCs (Right)'].values[0]\n",
    "        metadata.at[_i, 'Infiltration_left'] =  patients_metadata.loc[patients_metadata['BM (' + tmp + ') ID'].str.contains(s, na=False), 'BM (' + tmp + ') DTCs (Left)'].values[0]\n",
    "        metadata.at[_i, 'DE_date'] =  patients_metadata.loc[patients_metadata['BM (' + tmp + ') ID'].str.contains(s, na=False), 'DE_date'].values[0]\n",
    "        metadata.at[_i, 'Timepoint'] = tmp\n",
    "\n",
    "#Load aberrations - Following patients are missing in aberrations: AT-0060, AT-0100, AT-0130 (double value), AT-0131\n",
    "aberrations = ['1p-', '1q+', '1q-', '2p+', '3p-', '3q-', '4p-', '6q-', '7q+', 'PTPRD del', 'CDKN2A/2B del ',\n",
    "       '11q-', '12q+', '14q-', '17p-', '17q+', '19p-', '19q-', '22q-', 'MYCN amp', 'TERT gain/rearr.', 'ATRX del', 'ALK amp.', 'ALK mut.']\n",
    "\n",
    "aberrations_metadata['Patient ID'] = aberrations_metadata['Patient ID'].astype(\"string\")\n",
    "metadata['Study_ID'] = metadata['Study_ID'].astype(\"string\")\n",
    "\n",
    "for a in aberrations: \n",
    "    metadata[a] = [aberrations_metadata.loc[aberrations_metadata['Patient ID'].str.contains(s, na=False), a].values[0] if metadata.loc[_i, 'control']=='no' else 'NA' for _i, s in enumerate(metadata['Study_ID'])] \n",
    "\n",
    "metadata.rename(columns = {'1p-':'X1p_loss', '1q+':'X1q_gain', '1q-':'X1q_loss', '2p+':'X2p_gain', '3p-':'X3p_loss', '3q-':'X3q_loss', '4p-':'X4p_loss', '6q-':'X6q_loss', '7q+':'X7q_gain', \n",
    "        'PTPRD del':'PTPRD_del', 'CDKN2A/2B del ':'CDKN2AB_del', '11q-':'X11q_loss', '12q+':'X12q_gain', '14q-':'X14q_loss', '17p-':'X17p_loss', '17q+':'X17q_gain', '19p-':'X19p_loss', \n",
    "        '19q-':'X19q_loss', '22q-':'X22q_loss', 'MYCN amp':'MYCN_amp', 'TERT gain/rearr.':'TERT_rear', 'ATRX del':'ATRX_del', 'ALK amp.':'ALK_amp', 'ALK mut.':'ALK_mut'}, inplace = True)\n",
    "\n",
    "#Load clinical data\n",
    "clinical_col = ['stage4', 'rez_dat', 'prog_dat', 'event_dat', 'tod_dat1', 'efs', 'tod', 'efs_dur', 'tod_dur', 'age_at_diag', 'therapy']\n",
    "for c in clinical_col: \n",
    "    metadata[c] = [clinical_metadata.loc[clinical_metadata['uid'].str.contains(s, na=False), c].values[0] if metadata.loc[_i, 'control']=='no' else 'NA' for _i, s in enumerate(metadata['Study_ID'])]\n",
    "\n",
    "#Replace NA by empty cells\"\n",
    "metadata.replace('NA', np.nan, inplace=True)\n",
    "metadata.replace('.', np.nan, inplace=True)\n",
    "\n",
    "metadata.to_csv(os.path.join(base_dir, '20231128_metadata_complete.csv'))\n"
   ]
  }
 ],
 "metadata": {
  "interpreter": {
   "hash": "6dae562b5a607d4da14c63c5a17cab43f9fcac363604e011ccc2a97f318ecd7b"
  },
  "kernelspec": {
   "display_name": "Python 3.10.4 ('mapmet': conda)",
   "language": "python",
   "name": "python3"
  },
  "language_info": {
   "codemirror_mode": {
    "name": "ipython",
    "version": 3
   },
   "file_extension": ".py",
   "mimetype": "text/x-python",
   "name": "python",
   "nbconvert_exporter": "python",
   "pygments_lexer": "ipython3",
   "version": "3.10.11"
  },
  "orig_nbformat": 4
 },
 "nbformat": 4,
 "nbformat_minor": 2
}
