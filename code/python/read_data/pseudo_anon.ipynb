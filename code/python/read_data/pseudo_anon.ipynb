{
 "cells": [
  {
   "cell_type": "code",
   "execution_count": 2,
   "metadata": {},
   "outputs": [],
   "source": [
    "import csv\n",
    "import pandas as pd\n",
    "import os\n",
    "\n",
    "path = \"/home/daria_l/isilon_images_mnt/10_MetaSystems/MetaSystemsData/Multimodal_Imaging_Daria/Publication\"\n",
    "\n",
    "df = pd.read_csv(os.path.join(path, \"pseudoanonymization-codes.csv\"))\n",
    "\n",
    "# Create a dictionary for easy lookup\n",
    "sample_to_id = dict(zip(df[\"Sample\"], df[\"Sample_ID\"]))\n",
    "\n",
    "directory = os.path.join(path, \"processed_data/neighbors\")\n",
    "\n",
    "# Iterate through files in the directory\n",
    "for filename in os.listdir(directory):\n",
    "    if filename.endswith('.csv'):\n",
    "        # Check if the filename contains any of the sample values\n",
    "        for sample, sample_id in sample_to_id.items():\n",
    "            if sample in filename:\n",
    "                # Create the new filename\n",
    "                new_filename = filename.replace(sample, sample_id)\n",
    "                # Construct full file paths\n",
    "                old_file = os.path.join(directory, filename)\n",
    "                new_file = os.path.join(directory, new_filename)\n",
    "                # Rename the file\n",
    "                os.rename(old_file, new_file)\n",
    "                print(f'Renamed: {filename} to {new_filename}')\n",
    "                break  # No need to check other samples once a match is found\n"
   ]
  }
 ],
 "metadata": {
  "kernelspec": {
   "display_name": "cellpose_gui",
   "language": "python",
   "name": "python3"
  },
  "language_info": {
   "codemirror_mode": {
    "name": "ipython",
    "version": 3
   },
   "file_extension": ".py",
   "mimetype": "text/x-python",
   "name": "python",
   "nbconvert_exporter": "python",
   "pygments_lexer": "ipython3",
   "version": "3.8.19"
  }
 },
 "nbformat": 4,
 "nbformat_minor": 2
}
